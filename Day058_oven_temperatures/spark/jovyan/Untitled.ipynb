{
 "cells": [
  {
   "cell_type": "code",
   "execution_count": null,
   "id": "2be3fe34-f742-4d01-a30c-6dee3f1fe21e",
   "metadata": {},
   "outputs": [],
   "source": [
    "import pyspark\n",
    "from pyspark.sql import SparkSession\n",
    "\n",
    "BOOTSTRAP_SERVERS = \"broker:29092\"\n",
    "TOPIC = \"oven\"\n",
    "\n",
    "def main():\n",
    "    spark = SparkSession.builder.master(\"local[1]\") \\\n",
    "                        .appName('OvenTempReader') \\\n",
    "                        .getOrCreate()\n",
    "\n",
    "    df = spark \\\n",
    "      .readStream \\\n",
    "      .format(\"kafka\") \\\n",
    "      .option(\"kafka.bootstrap.servers\", BOOTSTRAP_SERVERS) \\\n",
    "      .option(\"session.timeout.ms\", \"45000\") \\\n",
    "      .option(\"subscribe\", TOPIC) \\\n",
    "      .load()\n",
    "    \n",
    "    query = df.selectExpr(\"CAST(key AS STRING)\", \"CAST(value AS STRING)\") \\\n",
    "            .writeStream \\\n",
    "            .outputMode(\"append\") \\\n",
    "            .format(\"console\") \\\n",
    "            .start()\n",
    "\n",
    "    query.awaitTermination()\n",
    "    \n",
    "if __name__ == \"__main__\":\n",
    "    main()"
   ]
  },
  {
   "cell_type": "code",
   "execution_count": null,
   "id": "5699f6fc-27f1-479d-832f-22dad00918de",
   "metadata": {},
   "outputs": [],
   "source": []
  }
 ],
 "metadata": {
  "kernelspec": {
   "display_name": "Python 3 (ipykernel)",
   "language": "python",
   "name": "python3"
  },
  "language_info": {
   "codemirror_mode": {
    "name": "ipython",
    "version": 3
   },
   "file_extension": ".py",
   "mimetype": "text/x-python",
   "name": "python",
   "nbconvert_exporter": "python",
   "pygments_lexer": "ipython3",
   "version": "3.11.4"
  }
 },
 "nbformat": 4,
 "nbformat_minor": 5
}
