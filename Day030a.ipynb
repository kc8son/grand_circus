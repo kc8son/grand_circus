{
 "cells": [
  {
   "cell_type": "markdown",
   "metadata": {},
   "source": [
    "# Day030 - May 4, 2023 - Exploratory Data Analysis\n",
    "## Data Analytics 2: Data Visualization & Predictions - Flying Etiquette Survey (Data Visualization) - Due May 8\n",
    "## Written by: Josep P Merten\n",
    "\n",
    "## Assignment submission:  https://lms.grandcircus.co/mod/assign/view.php?id=25284\n",
    "## Assignment requirements: https://docs.google.com/document/d/1KHJctjMMiL_MFfUYl8O7uABQ9uy6wsUnZN0hssFZzuQ/preview\n",
    "    "
   ]
  },
  {
   "cell_type": "markdown",
   "metadata": {},
   "source": [
    "### Imports"
   ]
  },
  {
   "cell_type": "code",
   "execution_count": 1,
   "metadata": {},
   "outputs": [],
   "source": [
    "import pandas as pd\n",
    "import numpy as np\n",
    "import matplotlib.pylab as plt\n",
    "import seaborn as sns\n",
    "plt.style.use('ggplot')    #    Set style sheet\n",
    "pd.set_option('display.max_columns', 300)    #    Set the number of columns displayed"
   ]
  },
  {
   "cell_type": "markdown",
   "metadata": {},
   "source": [
    "### Go get data..."
   ]
  },
  {
   "cell_type": "code",
   "execution_count": 2,
   "metadata": {},
   "outputs": [
    {
     "data": {
      "text/html": [
       "<div>\n",
       "<style scoped>\n",
       "    .dataframe tbody tr th:only-of-type {\n",
       "        vertical-align: middle;\n",
       "    }\n",
       "\n",
       "    .dataframe tbody tr th {\n",
       "        vertical-align: top;\n",
       "    }\n",
       "\n",
       "    .dataframe thead th {\n",
       "        text-align: right;\n",
       "    }\n",
       "</style>\n",
       "<table border=\"1\" class=\"dataframe\">\n",
       "  <thead>\n",
       "    <tr style=\"text-align: right;\">\n",
       "      <th></th>\n",
       "      <th>RespondentID</th>\n",
       "      <th>How often do you travel by plane?</th>\n",
       "      <th>Do you ever recline your seat when you fly?</th>\n",
       "      <th>How tall are you?</th>\n",
       "      <th>Do you have any children under 18?</th>\n",
       "      <th>In a row of three seats, who should get to use the two arm rests?</th>\n",
       "      <th>In a row of two seats, who should get to use the middle arm rest?</th>\n",
       "      <th>Who should have control over the window shade?</th>\n",
       "      <th>Is itrude to move to an unsold seat on a plane?</th>\n",
       "      <th>Generally speaking, is it rude to say more than a few words tothe stranger sitting next to you on a plane?</th>\n",
       "      <th>On a 6 hour flight from NYC to LA, how many times is it acceptable to get up if you're not in an aisle seat?</th>\n",
       "      <th>Under normal circumstances, does a person who reclines their seat during a flight have any obligation to the person sitting behind them?</th>\n",
       "      <th>Is itrude to recline your seat on a plane?</th>\n",
       "      <th>Given the opportunity, would you eliminate the possibility of reclining seats on planes entirely?</th>\n",
       "      <th>Is it rude to ask someone to switch seats with you in order to be closer to friends?</th>\n",
       "      <th>Is itrude to ask someone to switch seats with you in order to be closer to family?</th>\n",
       "      <th>Is it rude to wake a passenger up if you are trying to go to the bathroom?</th>\n",
       "      <th>Is itrude to wake a passenger up if you are trying to walk around?</th>\n",
       "      <th>In general, is itrude to bring a baby on a plane?</th>\n",
       "      <th>In general, is it rude to knowingly bring unruly children on a plane?</th>\n",
       "      <th>Have you ever used personal electronics during take off or landing in violation of a flight attendant's direction?</th>\n",
       "      <th>Have you ever smoked a cigarette in an airplane bathroom when it was against the rules?</th>\n",
       "      <th>Gender</th>\n",
       "      <th>Age</th>\n",
       "      <th>Household Income</th>\n",
       "      <th>Education</th>\n",
       "      <th>Location (Census Region)</th>\n",
       "    </tr>\n",
       "  </thead>\n",
       "  <tbody>\n",
       "    <tr>\n",
       "      <th>0</th>\n",
       "      <td>3436139758</td>\n",
       "      <td>Once a year or less</td>\n",
       "      <td>NaN</td>\n",
       "      <td>NaN</td>\n",
       "      <td>NaN</td>\n",
       "      <td>NaN</td>\n",
       "      <td>NaN</td>\n",
       "      <td>NaN</td>\n",
       "      <td>NaN</td>\n",
       "      <td>NaN</td>\n",
       "      <td>NaN</td>\n",
       "      <td>NaN</td>\n",
       "      <td>NaN</td>\n",
       "      <td>NaN</td>\n",
       "      <td>NaN</td>\n",
       "      <td>NaN</td>\n",
       "      <td>NaN</td>\n",
       "      <td>NaN</td>\n",
       "      <td>NaN</td>\n",
       "      <td>NaN</td>\n",
       "      <td>NaN</td>\n",
       "      <td>NaN</td>\n",
       "      <td>NaN</td>\n",
       "      <td>NaN</td>\n",
       "      <td>NaN</td>\n",
       "      <td>NaN</td>\n",
       "      <td>NaN</td>\n",
       "    </tr>\n",
       "    <tr>\n",
       "      <th>1</th>\n",
       "      <td>3434278696</td>\n",
       "      <td>Once a year or less</td>\n",
       "      <td>About half the time</td>\n",
       "      <td>6'3\"</td>\n",
       "      <td>Yes</td>\n",
       "      <td>The arm rests should be shared</td>\n",
       "      <td>The arm rests should be shared</td>\n",
       "      <td>Everyone in the row should have some say</td>\n",
       "      <td>No, not rude at all</td>\n",
       "      <td>No, not at all rude</td>\n",
       "      <td>Twice</td>\n",
       "      <td>Yes, they should not recline their chair if th...</td>\n",
       "      <td>Yes, somewhat rude</td>\n",
       "      <td>No</td>\n",
       "      <td>No, not at all rude</td>\n",
       "      <td>No, not at all rude</td>\n",
       "      <td>No, not at all rude</td>\n",
       "      <td>No, not at all rude</td>\n",
       "      <td>No, not at all rude</td>\n",
       "      <td>No, not at all rude</td>\n",
       "      <td>No</td>\n",
       "      <td>No</td>\n",
       "      <td>Male</td>\n",
       "      <td>30-44</td>\n",
       "      <td>NaN</td>\n",
       "      <td>Graduate degree</td>\n",
       "      <td>Pacific</td>\n",
       "    </tr>\n",
       "    <tr>\n",
       "      <th>2</th>\n",
       "      <td>3434275578</td>\n",
       "      <td>Once a year or less</td>\n",
       "      <td>Usually</td>\n",
       "      <td>5'8\"</td>\n",
       "      <td>No</td>\n",
       "      <td>Whoever puts their arm on the arm rest first</td>\n",
       "      <td>The arm rests should be shared</td>\n",
       "      <td>The person in the window seat should have excl...</td>\n",
       "      <td>No, not rude at all</td>\n",
       "      <td>No, not at all rude</td>\n",
       "      <td>Three times</td>\n",
       "      <td>Yes, they should not recline their chair if th...</td>\n",
       "      <td>No, not rude at all</td>\n",
       "      <td>No</td>\n",
       "      <td>No, not at all rude</td>\n",
       "      <td>No, not at all rude</td>\n",
       "      <td>No, not at all rude</td>\n",
       "      <td>Yes, somewhat rude</td>\n",
       "      <td>Yes, somewhat rude</td>\n",
       "      <td>Yes, very rude</td>\n",
       "      <td>No</td>\n",
       "      <td>No</td>\n",
       "      <td>Male</td>\n",
       "      <td>30-44</td>\n",
       "      <td>$100,000 - $149,999</td>\n",
       "      <td>Bachelor degree</td>\n",
       "      <td>Pacific</td>\n",
       "    </tr>\n",
       "    <tr>\n",
       "      <th>3</th>\n",
       "      <td>3434268208</td>\n",
       "      <td>Once a year or less</td>\n",
       "      <td>Always</td>\n",
       "      <td>5'11\"</td>\n",
       "      <td>No</td>\n",
       "      <td>The arm rests should be shared</td>\n",
       "      <td>The arm rests should be shared</td>\n",
       "      <td>Everyone in the row should have some say</td>\n",
       "      <td>No, not rude at all</td>\n",
       "      <td>No, not at all rude</td>\n",
       "      <td>Three times</td>\n",
       "      <td>No, the person on the flight has no obligation...</td>\n",
       "      <td>No, not rude at all</td>\n",
       "      <td>No</td>\n",
       "      <td>Yes, somewhat rude</td>\n",
       "      <td>No, not at all rude</td>\n",
       "      <td>No, not at all rude</td>\n",
       "      <td>Yes, somewhat rude</td>\n",
       "      <td>Yes, somewhat rude</td>\n",
       "      <td>Yes, very rude</td>\n",
       "      <td>No</td>\n",
       "      <td>No</td>\n",
       "      <td>Male</td>\n",
       "      <td>30-44</td>\n",
       "      <td>$0 - $24,999</td>\n",
       "      <td>Bachelor degree</td>\n",
       "      <td>Pacific</td>\n",
       "    </tr>\n",
       "    <tr>\n",
       "      <th>4</th>\n",
       "      <td>3434250245</td>\n",
       "      <td>Once a month or less</td>\n",
       "      <td>About half the time</td>\n",
       "      <td>5'7\"</td>\n",
       "      <td>No</td>\n",
       "      <td>The person in the middle seat gets both arm rests</td>\n",
       "      <td>The person in aisle</td>\n",
       "      <td>Everyone in the row should have some say</td>\n",
       "      <td>No, not rude at all</td>\n",
       "      <td>No, not at all rude</td>\n",
       "      <td>Twice</td>\n",
       "      <td>No, the person on the flight has no obligation...</td>\n",
       "      <td>No, not rude at all</td>\n",
       "      <td>No</td>\n",
       "      <td>No, not at all rude</td>\n",
       "      <td>No, not at all rude</td>\n",
       "      <td>Yes, somewhat rude</td>\n",
       "      <td>Yes, somewhat rude</td>\n",
       "      <td>Yes, somewhat rude</td>\n",
       "      <td>Yes, very rude</td>\n",
       "      <td>Yes</td>\n",
       "      <td>No</td>\n",
       "      <td>Male</td>\n",
       "      <td>30-44</td>\n",
       "      <td>$50,000 - $99,999</td>\n",
       "      <td>Bachelor degree</td>\n",
       "      <td>Pacific</td>\n",
       "    </tr>\n",
       "  </tbody>\n",
       "</table>\n",
       "</div>"
      ],
      "text/plain": [
       "   RespondentID How often do you travel by plane?  \\\n",
       "0    3436139758               Once a year or less   \n",
       "1    3434278696               Once a year or less   \n",
       "2    3434275578               Once a year or less   \n",
       "3    3434268208               Once a year or less   \n",
       "4    3434250245              Once a month or less   \n",
       "\n",
       "  Do you ever recline your seat when you fly? How tall are you?  \\\n",
       "0                                         NaN               NaN   \n",
       "1                         About half the time              6'3\"   \n",
       "2                                     Usually              5'8\"   \n",
       "3                                      Always             5'11\"   \n",
       "4                         About half the time              5'7\"   \n",
       "\n",
       "  Do you have any children under 18?  \\\n",
       "0                                NaN   \n",
       "1                                Yes   \n",
       "2                                 No   \n",
       "3                                 No   \n",
       "4                                 No   \n",
       "\n",
       "  In a row of three seats, who should get to use the two arm rests?  \\\n",
       "0                                                NaN                  \n",
       "1                     The arm rests should be shared                  \n",
       "2       Whoever puts their arm on the arm rest first                  \n",
       "3                     The arm rests should be shared                  \n",
       "4  The person in the middle seat gets both arm rests                  \n",
       "\n",
       "  In a row of two seats, who should get to use the middle arm rest?  \\\n",
       "0                                                NaN                  \n",
       "1                     The arm rests should be shared                  \n",
       "2                     The arm rests should be shared                  \n",
       "3                     The arm rests should be shared                  \n",
       "4                                The person in aisle                  \n",
       "\n",
       "      Who should have control over the window shade?  \\\n",
       "0                                                NaN   \n",
       "1           Everyone in the row should have some say   \n",
       "2  The person in the window seat should have excl...   \n",
       "3           Everyone in the row should have some say   \n",
       "4           Everyone in the row should have some say   \n",
       "\n",
       "  Is itrude to move to an unsold seat on a plane?  \\\n",
       "0                                             NaN   \n",
       "1                             No, not rude at all   \n",
       "2                             No, not rude at all   \n",
       "3                             No, not rude at all   \n",
       "4                             No, not rude at all   \n",
       "\n",
       "  Generally speaking, is it rude to say more than a few words tothe stranger sitting next to you on a plane?  \\\n",
       "0                                                NaN                                                           \n",
       "1                                No, not at all rude                                                           \n",
       "2                                No, not at all rude                                                           \n",
       "3                                No, not at all rude                                                           \n",
       "4                                No, not at all rude                                                           \n",
       "\n",
       "  On a 6 hour flight from NYC to LA, how many times is it acceptable to get up if you're not in an aisle seat?  \\\n",
       "0                                                NaN                                                             \n",
       "1                                              Twice                                                             \n",
       "2                                        Three times                                                             \n",
       "3                                        Three times                                                             \n",
       "4                                              Twice                                                             \n",
       "\n",
       "  Under normal circumstances, does a person who reclines their seat during a flight have any obligation to the person sitting behind them?  \\\n",
       "0                                                NaN                                                                                         \n",
       "1  Yes, they should not recline their chair if th...                                                                                         \n",
       "2  Yes, they should not recline their chair if th...                                                                                         \n",
       "3  No, the person on the flight has no obligation...                                                                                         \n",
       "4  No, the person on the flight has no obligation...                                                                                         \n",
       "\n",
       "  Is itrude to recline your seat on a plane?  \\\n",
       "0                                        NaN   \n",
       "1                         Yes, somewhat rude   \n",
       "2                        No, not rude at all   \n",
       "3                        No, not rude at all   \n",
       "4                        No, not rude at all   \n",
       "\n",
       "  Given the opportunity, would you eliminate the possibility of reclining seats on planes entirely?  \\\n",
       "0                                                NaN                                                  \n",
       "1                                                 No                                                  \n",
       "2                                                 No                                                  \n",
       "3                                                 No                                                  \n",
       "4                                                 No                                                  \n",
       "\n",
       "  Is it rude to ask someone to switch seats with you in order to be closer to friends?  \\\n",
       "0                                                NaN                                     \n",
       "1                                No, not at all rude                                     \n",
       "2                                No, not at all rude                                     \n",
       "3                                 Yes, somewhat rude                                     \n",
       "4                                No, not at all rude                                     \n",
       "\n",
       "  Is itrude to ask someone to switch seats with you in order to be closer to family?  \\\n",
       "0                                                NaN                                   \n",
       "1                                No, not at all rude                                   \n",
       "2                                No, not at all rude                                   \n",
       "3                                No, not at all rude                                   \n",
       "4                                No, not at all rude                                   \n",
       "\n",
       "  Is it rude to wake a passenger up if you are trying to go to the bathroom?  \\\n",
       "0                                                NaN                           \n",
       "1                                No, not at all rude                           \n",
       "2                                No, not at all rude                           \n",
       "3                                No, not at all rude                           \n",
       "4                                 Yes, somewhat rude                           \n",
       "\n",
       "  Is itrude to wake a passenger up if you are trying to walk around?  \\\n",
       "0                                                NaN                   \n",
       "1                                No, not at all rude                   \n",
       "2                                 Yes, somewhat rude                   \n",
       "3                                 Yes, somewhat rude                   \n",
       "4                                 Yes, somewhat rude                   \n",
       "\n",
       "  In general, is itrude to bring a baby on a plane?  \\\n",
       "0                                               NaN   \n",
       "1                               No, not at all rude   \n",
       "2                                Yes, somewhat rude   \n",
       "3                                Yes, somewhat rude   \n",
       "4                                Yes, somewhat rude   \n",
       "\n",
       "  In general, is it rude to knowingly bring unruly children on a plane?  \\\n",
       "0                                                NaN                      \n",
       "1                                No, not at all rude                      \n",
       "2                                     Yes, very rude                      \n",
       "3                                     Yes, very rude                      \n",
       "4                                     Yes, very rude                      \n",
       "\n",
       "  Have you ever used personal electronics during take off or landing in violation of a flight attendant's direction?  \\\n",
       "0                                                NaN                                                                   \n",
       "1                                                 No                                                                   \n",
       "2                                                 No                                                                   \n",
       "3                                                 No                                                                   \n",
       "4                                                Yes                                                                   \n",
       "\n",
       "  Have you ever smoked a cigarette in an airplane bathroom when it was against the rules?  \\\n",
       "0                                                NaN                                        \n",
       "1                                                 No                                        \n",
       "2                                                 No                                        \n",
       "3                                                 No                                        \n",
       "4                                                 No                                        \n",
       "\n",
       "  Gender    Age     Household Income        Education Location (Census Region)  \n",
       "0    NaN    NaN                  NaN              NaN                      NaN  \n",
       "1   Male  30-44                  NaN  Graduate degree                  Pacific  \n",
       "2   Male  30-44  $100,000 - $149,999  Bachelor degree                  Pacific  \n",
       "3   Male  30-44         $0 - $24,999  Bachelor degree                  Pacific  \n",
       "4   Male  30-44    $50,000 - $99,999  Bachelor degree                  Pacific  "
      ]
     },
     "execution_count": 2,
     "metadata": {},
     "output_type": "execute_result"
    }
   ],
   "source": [
    "data_url = r'https://raw.githubusercontent.com/fivethirtyeight/data/master/flying-etiquette-survey/flying-etiquette.csv'\n",
    "# print(data_url)\n",
    "etiquette_df = pd.read_csv(data_url)\n",
    "etiquette_df.head()"
   ]
  },
  {
   "cell_type": "markdown",
   "metadata": {},
   "source": [
    "### Visualization #1 - Percent breakdown of survey participants by age range.\n",
    "- Since this is a simple comparison by percentage, a bar chart seems most appropriate."
   ]
  },
  {
   "cell_type": "code",
   "execution_count": 3,
   "metadata": {},
   "outputs": [
    {
     "data": {
      "text/plain": [
       "<matplotlib.axes._subplots.AxesSubplot at 0x196023f6eb0>"
      ]
     },
     "execution_count": 3,
     "metadata": {},
     "output_type": "execute_result"
    },
    {
     "data": {
      "image/png": "[encoded data removed]",
      "text/plain": [
       "<Figure size 432x288 with 1 Axes>"
      ]
     },
     "metadata": {},
     "output_type": "display_data"
    }
   ],
   "source": [
    "# Set title and headings...\n",
    "plt.title(\"Percent breakdown of survey participants by age range\") #title\n",
    "plt.xlabel(\"Age\") #x label\n",
    "plt.ylabel(\"Percent response\") #y label\n",
    "\n",
    "agg_series = etiquette_df.groupby('Age').size()\n",
    "sns.barplot(x=agg_series.index, y=agg_series.values)"
   ]
  },
  {
   "cell_type": "markdown",
   "metadata": {},
   "source": [
    "### Visualization #2 - How did survey respondents generally feel regarding if “it [was] rude to ask someone to switch seats with you in order to be closer to friends?”?\n",
    "- Since this is a simple comparison by percentage, a bar chart seems most appropriate again."
   ]
  },
  {
   "cell_type": "code",
   "execution_count": 4,
   "metadata": {},
   "outputs": [
    {
     "data": {
      "text/plain": [
       "'Is it rude to ask someone to switch seats with you in order to be closer to friends?'"
      ]
     },
     "execution_count": 4,
     "metadata": {},
     "output_type": "execute_result"
    }
   ],
   "source": [
    "etiquette_df.columns  #  column 14 is the one we want.\n",
    "etiquette_df.columns[14]"
   ]
  },
  {
   "cell_type": "code",
   "execution_count": 5,
   "metadata": {},
   "outputs": [
    {
     "data": {
      "text/plain": [
       "<matplotlib.axes._subplots.AxesSubplot at 0x19602a73340>"
      ]
     },
     "execution_count": 5,
     "metadata": {},
     "output_type": "execute_result"
    },
    {
     "data": {
      "image/png": "[encoded data removed]",
      "text/plain": [
       "<Figure size 432x288 with 1 Axes>"
      ]
     },
     "metadata": {},
     "output_type": "display_data"
    }
   ],
   "source": [
    "# Set title and headings...\n",
    "plt.title(\"Respondant's feelings regarding respondents generally feel regarding if \\n'it [was] rude to ask someone to switch seats with you in order to be closer to friends?'\") #title\n",
    "plt.xlabel(\"Response\") #x label\n",
    "plt.ylabel(\"Percent response\") #y label\n",
    "\n",
    "\n",
    "# I learned that I can just reference the string from etiquette_df.columns[14]\n",
    "agg_series = etiquette_df.groupby(etiquette_df.columns[14]).size()\n",
    "sns.barplot(x=agg_series.index, y=agg_series.values)"
   ]
  },
  {
   "cell_type": "markdown",
   "metadata": {},
   "source": [
    "### Visualization #3 - Use the respondents age as a dimension to see if there are any differences to responses to “it [was] rude to ask someone to switch seats with you in order to be closer to friends?”?\n",
    "- Since this is comparing the relationship between two columns, a scatterplot seems more appropriate."
   ]
  },
  {
   "cell_type": "code",
   "execution_count": 6,
   "metadata": {},
   "outputs": [
    {
     "data": {
      "text/plain": [
       "Index(['RespondentID', 'How often do you travel by plane?',\n",
       "       'Do you ever recline your seat when you fly?', 'How tall are you?',\n",
       "       'Do you have any children under 18?',\n",
       "       'In a row of three seats, who should get to use the two arm rests?',\n",
       "       'In a row of two seats, who should get to use the middle arm rest?',\n",
       "       'Who should have control over the window shade?',\n",
       "       'Is itrude to move to an unsold seat on a plane?',\n",
       "       'Generally speaking, is it rude to say more than a few words tothe stranger sitting next to you on a plane?',\n",
       "       'On a 6 hour flight from NYC to LA, how many times is it acceptable to get up if you're not in an aisle seat?',\n",
       "       'Under normal circumstances, does a person who reclines their seat during a flight have any obligation to the person sitting behind them?',\n",
       "       'Is itrude to recline your seat on a plane?',\n",
       "       'Given the opportunity, would you eliminate the possibility of reclining seats on planes entirely?',\n",
       "       'Is it rude to ask someone to switch seats with you in order to be closer to friends?',\n",
       "       'Is itrude to ask someone to switch seats with you in order to be closer to family?',\n",
       "       'Is it rude to wake a passenger up if you are trying to go to the bathroom?',\n",
       "       'Is itrude to wake a passenger up if you are trying to walk around?',\n",
       "       'In general, is itrude to bring a baby on a plane?',\n",
       "       'In general, is it rude to knowingly bring unruly children on a plane?',\n",
       "       'Have you ever used personal electronics during take off or landing in violation of a flight attendant's direction?',\n",
       "       'Have you ever smoked a cigarette in an airplane bathroom when it was against the rules?',\n",
       "       'Gender', 'Age', 'Household Income', 'Education',\n",
       "       'Location (Census Region)'],\n",
       "      dtype='object')"
      ]
     },
     "execution_count": 6,
     "metadata": {},
     "output_type": "execute_result"
    }
   ],
   "source": [
    "etiquette_df.columns  #  column 14 is the one we want.\n",
    "# etiquette_df.columns[14]"
   ]
  },
  {
   "cell_type": "code",
   "execution_count": 7,
   "metadata": {},
   "outputs": [
    {
     "name": "stdout",
     "output_type": "stream",
     "text": [
      "Index(['18-29', '30-44', '45-60', '> 60'], dtype='object', name='Age')\n",
      "<class 'pandas.core.frame.DataFrame'>\n",
      "Is it rude to ask someone to switch seats with you in order to be closer to friends?\n",
      "No, not at all rude    121\n",
      "Yes, somewhat rude      43\n",
      "Yes, very rude           8\n",
      "Name: 18-29, dtype: int64\n",
      "Is it rude to ask someone to switch seats with you in order to be closer to friends?\n",
      "No, not at all rude    121\n",
      "Yes, somewhat rude      43\n",
      "Yes, very rude           8\n",
      "Name: 18-29, dtype: int64\n",
      "Is it rude to ask someone to switch seats with you in order to be closer to friends?\n",
      "No, not at all rude    156\n",
      "Yes, somewhat rude      56\n",
      "Yes, very rude          10\n",
      "Name: 30-44, dtype: int64\n",
      "Is it rude to ask someone to switch seats with you in order to be closer to friends?\n",
      "No, not at all rude    194\n",
      "Yes, somewhat rude      35\n",
      "Yes, very rude           5\n",
      "Name: 45-60, dtype: int64\n",
      "Is it rude to ask someone to switch seats with you in order to be closer to friends?\n",
      "No, not at all rude    156\n",
      "Yes, somewhat rude      47\n",
      "Yes, very rude          12\n",
      "Name: > 60, dtype: int64\n"
     ]
    },
    {
     "data": {
      "text/plain": [
       "[<matplotlib.lines.Line2D at 0x19602b19be0>]"
      ]
     },
     "execution_count": 7,
     "metadata": {},
     "output_type": "execute_result"
    },
    {
     "data": {
      "image/png": "[encoded data removed]",
      "text/plain": [
       "<Figure size 432x288 with 1 Axes>"
      ]
     },
     "metadata": {},
     "output_type": "display_data"
    }
   ],
   "source": [
    "# Set title and headings...\n",
    "# plt.title(\"Comparison of age versus respondant's feelings if \\n'it [was] rude to ask someone to switch seats with you in order to be closer to friends?'\") #title\n",
    "# plt.xlabel(\"Response\") #x label\n",
    "# plt.ylabel(\"Percent response\") #y label\n",
    "\n",
    "# Set the query string since we will need it...\n",
    "q_string = etiquette_df.columns[14]\n",
    "agg2_df = etiquette_df.groupby([q_string, 'Age']).size().unstack()\n",
    "# agg2_df.rename(columns={q_string: 'IsRude'}, inplace=True)\n",
    "# agg2_df.columns=['Query', 'Age', 'Count']\n",
    "print(agg2_df.columns)\n",
    "print(type(agg2_df))\n",
    "print(agg2_df['18-29'])\n",
    "\n",
    "# Now split into three dataframes based on response\n",
    "# newdf = df[(df.origin == \"JFK\") & (df.carrier == \"B6\")]\n",
    "plt1_df = agg2_df['18-29']\n",
    "plt2_df = agg2_df['30-44']\n",
    "plt3_df = agg2_df['45-60']\n",
    "plt4_df = agg2_df['> 60']\n",
    "\n",
    "print(plt1_df)\n",
    "print(plt2_df)\n",
    "print(plt3_df)\n",
    "print(plt4_df)\n",
    "\n",
    "# plt.subplot 2x2 - https://matplotlib.org/stable/gallery/subplots_axes_and_figures/subplots_demo.html\n",
    "# sns.pairplot(agg2_df[[\"Age\", etiquette_df.columns[14]]], hue=\"Type 1\" )\n",
    "plt.plot(plt1_df)"
   ]
  },
  {
   "cell_type": "code",
   "execution_count": 8,
   "metadata": {},
   "outputs": [
    {
     "ename": "NameError",
     "evalue": "name 'df' is not defined",
     "output_type": "error",
     "traceback": [
      "\u001b[1;31m---------------------------------------------------------------------------\u001b[0m",
      "\u001b[1;31mNameError\u001b[0m                                 Traceback (most recent call last)",
      "\u001b[1;32m<ipython-input-8-3a2b707285a9>\u001b[0m in \u001b[0;36m<module>\u001b[1;34m\u001b[0m\n\u001b[1;32m----> 1\u001b[1;33m \u001b[0mdf\u001b[0m\u001b[1;33m.\u001b[0m\u001b[0mgroupby\u001b[0m\u001b[1;33m(\u001b[0m\u001b[1;33m[\u001b[0m\u001b[1;34m'col5'\u001b[0m\u001b[1;33m,\u001b[0m \u001b[1;34m'col2'\u001b[0m\u001b[1;33m]\u001b[0m\u001b[1;33m)\u001b[0m\u001b[1;33m.\u001b[0m\u001b[0msize\u001b[0m\u001b[1;33m(\u001b[0m\u001b[1;33m)\u001b[0m\u001b[1;33m\u001b[0m\u001b[1;33m\u001b[0m\u001b[0m\n\u001b[0m",
      "\u001b[1;31mNameError\u001b[0m: name 'df' is not defined"
     ]
    }
   ],
   "source": [
    "df.groupby(['col5', 'col2']).size()"
   ]
  },
  {
   "cell_type": "code",
   "execution_count": null,
   "metadata": {},
   "outputs": [],
   "source": []
  }
 ],
 "metadata": {
  "kernelspec": {
   "display_name": "Python 3",
   "language": "python",
   "name": "python3"
  },
  "language_info": {
   "codemirror_mode": {
    "name": "ipython",
    "version": 3
   },
   "file_extension": ".py",
   "mimetype": "text/x-python",
   "name": "python",
   "nbconvert_exporter": "python",
   "pygments_lexer": "ipython3",
   "version": "3.8.3"
  }
 },
 "nbformat": 4,
 "nbformat_minor": 5
}
