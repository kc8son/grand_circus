{
 "cells": [
  {
   "cell_type": "markdown",
   "id": "741ac745-36e0-4635-82d2-bd028ff5f419",
   "metadata": {},
   "source": [
    "# Day034 - Joseph P. Merten\n",
    "## Data Analytics 2: Data Visualization & Predictions - Day 034 notes\n",
    "- Following along with this video: https://www.youtube.com/watch?v=xi0vhXFPegw"
   ]
  },
  {
   "cell_type": "markdown",
   "id": "7c117d08-1a82-4610-b398-dba9d7ffe32b",
   "metadata": {},
   "source": [
    "### Wednesday  practice technical interview."
   ]
  },
  {
   "cell_type": "markdown",
   "id": "072c4356-6b4e-4409-aabb-45fa16197994",
   "metadata": {},
   "source": [
    "### MSSQL is not required,"
   ]
  },
  {
   "cell_type": "markdown",
   "id": "245026c1-e36a-4db9-9246-191e9fc4dfe8",
   "metadata": {},
   "source": [
    "# Start of code along..."
   ]
  },
  {
   "cell_type": "markdown",
   "id": "1ec10ef3-9f0b-453c-b95b-873133a724cc",
   "metadata": {},
   "source": [
    "### Imports..."
   ]
  },
  {
   "cell_type": "code",
   "execution_count": 1,
   "id": "cbb09bdf-2fe1-4568-b9b9-9d4f67c56c7a",
   "metadata": {},
   "outputs": [],
   "source": [
    "import pandas as pd\n",
    "import numpy as np\n",
    "import matplotlib.pylab as plt\n",
    "import seaborn as sns\n",
    "plt.style.use('ggplot')    #    Set style sheet\n",
    "pd.set_option('display.max_columns', 300)    #    Set the number of columns displayed\n",
    "\n",
    "\n",
    "\n",
    "from sklearn.model_selection import train_test_split\n",
    "from sklearn.impute import SimpleImputer\n",
    "from sklearn.preprocessing import StandardScaler\n",
    "from sklearn.pipeline import Pipeline\n",
    "from sklearn.model_selection import cross_val_score\n",
    "from sklearn import tree \n",
    "from sklearn.tree import DecisionTreeClassifier"
   ]
  },
  {
   "cell_type": "code",
   "execution_count": 2,
   "id": "5340cfea-88bb-4a00-b6cb-518f798189d3",
   "metadata": {},
   "outputs": [],
   "source": [
    "cancer_df = pd.read_csv(\"./cancer.csv\")"
   ]
  },
  {
   "cell_type": "code",
   "execution_count": 3,
   "id": "3367cfac-75e9-422f-996c-46f3f7fa9ee5",
   "metadata": {},
   "outputs": [
    {
     "data": {
      "text/html": [
       "<div>\n",
       "<style scoped>\n",
       "    .dataframe tbody tr th:only-of-type {\n",
       "        vertical-align: middle;\n",
       "    }\n",
       "\n",
       "    .dataframe tbody tr th {\n",
       "        vertical-align: top;\n",
       "    }\n",
       "\n",
       "    .dataframe thead th {\n",
       "        text-align: right;\n",
       "    }\n",
       "</style>\n",
       "<table border=\"1\" class=\"dataframe\">\n",
       "  <thead>\n",
       "    <tr style=\"text-align: right;\">\n",
       "      <th></th>\n",
       "      <th>id</th>\n",
       "      <th>diagnosis</th>\n",
       "      <th>radius_mean</th>\n",
       "      <th>texture_mean</th>\n",
       "      <th>perimeter_mean</th>\n",
       "      <th>area_mean</th>\n",
       "      <th>smoothness_mean</th>\n",
       "      <th>compactness_mean</th>\n",
       "      <th>concavity_mean</th>\n",
       "      <th>concave points_mean</th>\n",
       "      <th>symmetry_mean</th>\n",
       "      <th>fractal_dimension_mean</th>\n",
       "    </tr>\n",
       "  </thead>\n",
       "  <tbody>\n",
       "    <tr>\n",
       "      <th>0</th>\n",
       "      <td>842302</td>\n",
       "      <td>M</td>\n",
       "      <td>17.99</td>\n",
       "      <td>10.38</td>\n",
       "      <td>122.80</td>\n",
       "      <td>1001.0</td>\n",
       "      <td>0.11840</td>\n",
       "      <td>0.27760</td>\n",
       "      <td>0.30010</td>\n",
       "      <td>0.14710</td>\n",
       "      <td>0.2419</td>\n",
       "      <td>0.07871</td>\n",
       "    </tr>\n",
       "    <tr>\n",
       "      <th>1</th>\n",
       "      <td>842517</td>\n",
       "      <td>M</td>\n",
       "      <td>20.57</td>\n",
       "      <td>17.77</td>\n",
       "      <td>132.90</td>\n",
       "      <td>1326.0</td>\n",
       "      <td>0.08474</td>\n",
       "      <td>0.07864</td>\n",
       "      <td>0.08690</td>\n",
       "      <td>0.07017</td>\n",
       "      <td>0.1812</td>\n",
       "      <td>0.05667</td>\n",
       "    </tr>\n",
       "    <tr>\n",
       "      <th>2</th>\n",
       "      <td>84300903</td>\n",
       "      <td>M</td>\n",
       "      <td>19.69</td>\n",
       "      <td>21.25</td>\n",
       "      <td>130.00</td>\n",
       "      <td>1203.0</td>\n",
       "      <td>0.10960</td>\n",
       "      <td>0.15990</td>\n",
       "      <td>0.19740</td>\n",
       "      <td>0.12790</td>\n",
       "      <td>0.2069</td>\n",
       "      <td>0.05999</td>\n",
       "    </tr>\n",
       "    <tr>\n",
       "      <th>3</th>\n",
       "      <td>84348301</td>\n",
       "      <td>M</td>\n",
       "      <td>11.42</td>\n",
       "      <td>20.38</td>\n",
       "      <td>77.58</td>\n",
       "      <td>386.1</td>\n",
       "      <td>0.14250</td>\n",
       "      <td>0.28390</td>\n",
       "      <td>0.24140</td>\n",
       "      <td>0.10520</td>\n",
       "      <td>0.2597</td>\n",
       "      <td>0.09744</td>\n",
       "    </tr>\n",
       "    <tr>\n",
       "      <th>4</th>\n",
       "      <td>84358402</td>\n",
       "      <td>M</td>\n",
       "      <td>20.29</td>\n",
       "      <td>14.34</td>\n",
       "      <td>135.10</td>\n",
       "      <td>1297.0</td>\n",
       "      <td>0.10030</td>\n",
       "      <td>0.13280</td>\n",
       "      <td>0.19800</td>\n",
       "      <td>0.10430</td>\n",
       "      <td>0.1809</td>\n",
       "      <td>0.05883</td>\n",
       "    </tr>\n",
       "    <tr>\n",
       "      <th>...</th>\n",
       "      <td>...</td>\n",
       "      <td>...</td>\n",
       "      <td>...</td>\n",
       "      <td>...</td>\n",
       "      <td>...</td>\n",
       "      <td>...</td>\n",
       "      <td>...</td>\n",
       "      <td>...</td>\n",
       "      <td>...</td>\n",
       "      <td>...</td>\n",
       "      <td>...</td>\n",
       "      <td>...</td>\n",
       "    </tr>\n",
       "    <tr>\n",
       "      <th>564</th>\n",
       "      <td>926424</td>\n",
       "      <td>M</td>\n",
       "      <td>21.56</td>\n",
       "      <td>22.39</td>\n",
       "      <td>142.00</td>\n",
       "      <td>1479.0</td>\n",
       "      <td>0.11100</td>\n",
       "      <td>0.11590</td>\n",
       "      <td>0.24390</td>\n",
       "      <td>0.13890</td>\n",
       "      <td>0.1726</td>\n",
       "      <td>0.05623</td>\n",
       "    </tr>\n",
       "    <tr>\n",
       "      <th>565</th>\n",
       "      <td>926682</td>\n",
       "      <td>M</td>\n",
       "      <td>20.13</td>\n",
       "      <td>28.25</td>\n",
       "      <td>131.20</td>\n",
       "      <td>1261.0</td>\n",
       "      <td>0.09780</td>\n",
       "      <td>0.10340</td>\n",
       "      <td>0.14400</td>\n",
       "      <td>0.09791</td>\n",
       "      <td>NaN</td>\n",
       "      <td>0.05533</td>\n",
       "    </tr>\n",
       "    <tr>\n",
       "      <th>566</th>\n",
       "      <td>926954</td>\n",
       "      <td>M</td>\n",
       "      <td>16.60</td>\n",
       "      <td>28.08</td>\n",
       "      <td>108.30</td>\n",
       "      <td>858.1</td>\n",
       "      <td>0.08455</td>\n",
       "      <td>0.10230</td>\n",
       "      <td>0.09251</td>\n",
       "      <td>0.05302</td>\n",
       "      <td>0.1590</td>\n",
       "      <td>0.05648</td>\n",
       "    </tr>\n",
       "    <tr>\n",
       "      <th>567</th>\n",
       "      <td>927241</td>\n",
       "      <td>M</td>\n",
       "      <td>20.60</td>\n",
       "      <td>29.33</td>\n",
       "      <td>140.10</td>\n",
       "      <td>1265.0</td>\n",
       "      <td>NaN</td>\n",
       "      <td>0.27700</td>\n",
       "      <td>0.35140</td>\n",
       "      <td>0.15200</td>\n",
       "      <td>0.2397</td>\n",
       "      <td>0.07016</td>\n",
       "    </tr>\n",
       "    <tr>\n",
       "      <th>568</th>\n",
       "      <td>92751</td>\n",
       "      <td>B</td>\n",
       "      <td>7.76</td>\n",
       "      <td>24.54</td>\n",
       "      <td>47.92</td>\n",
       "      <td>181.0</td>\n",
       "      <td>0.05263</td>\n",
       "      <td>0.04362</td>\n",
       "      <td>0.00000</td>\n",
       "      <td>0.00000</td>\n",
       "      <td>0.1587</td>\n",
       "      <td>0.05884</td>\n",
       "    </tr>\n",
       "  </tbody>\n",
       "</table>\n",
       "<p>569 rows × 12 columns</p>\n",
       "</div>"
      ],
      "text/plain": [
       "           id diagnosis  radius_mean  texture_mean  perimeter_mean  area_mean  \\\n",
       "0      842302         M        17.99         10.38          122.80     1001.0   \n",
       "1      842517         M        20.57         17.77          132.90     1326.0   \n",
       "2    84300903         M        19.69         21.25          130.00     1203.0   \n",
       "3    84348301         M        11.42         20.38           77.58      386.1   \n",
       "4    84358402         M        20.29         14.34          135.10     1297.0   \n",
       "..        ...       ...          ...           ...             ...        ...   \n",
       "564    926424         M        21.56         22.39          142.00     1479.0   \n",
       "565    926682         M        20.13         28.25          131.20     1261.0   \n",
       "566    926954         M        16.60         28.08          108.30      858.1   \n",
       "567    927241         M        20.60         29.33          140.10     1265.0   \n",
       "568     92751         B         7.76         24.54           47.92      181.0   \n",
       "\n",
       "     smoothness_mean  compactness_mean  concavity_mean  concave points_mean  \\\n",
       "0            0.11840           0.27760         0.30010              0.14710   \n",
       "1            0.08474           0.07864         0.08690              0.07017   \n",
       "2            0.10960           0.15990         0.19740              0.12790   \n",
       "3            0.14250           0.28390         0.24140              0.10520   \n",
       "4            0.10030           0.13280         0.19800              0.10430   \n",
       "..               ...               ...             ...                  ...   \n",
       "564          0.11100           0.11590         0.24390              0.13890   \n",
       "565          0.09780           0.10340         0.14400              0.09791   \n",
       "566          0.08455           0.10230         0.09251              0.05302   \n",
       "567              NaN           0.27700         0.35140              0.15200   \n",
       "568          0.05263           0.04362         0.00000              0.00000   \n",
       "\n",
       "     symmetry_mean  fractal_dimension_mean  \n",
       "0           0.2419                 0.07871  \n",
       "1           0.1812                 0.05667  \n",
       "2           0.2069                 0.05999  \n",
       "3           0.2597                 0.09744  \n",
       "4           0.1809                 0.05883  \n",
       "..             ...                     ...  \n",
       "564         0.1726                 0.05623  \n",
       "565            NaN                 0.05533  \n",
       "566         0.1590                 0.05648  \n",
       "567         0.2397                 0.07016  \n",
       "568         0.1587                 0.05884  \n",
       "\n",
       "[569 rows x 12 columns]"
      ]
     },
     "execution_count": 3,
     "metadata": {},
     "output_type": "execute_result"
    }
   ],
   "source": [
    "cancer_df"
   ]
  },
  {
   "cell_type": "code",
   "execution_count": 4,
   "id": "2ac90474-8403-4f1d-bc14-a5363074f556",
   "metadata": {},
   "outputs": [
    {
     "name": "stdout",
     "output_type": "stream",
     "text": [
      "                 id  radius_mean  texture_mean  perimeter_mean    area_mean  \\\n",
      "count  5.690000e+02   569.000000    569.000000      569.000000   569.000000   \n",
      "mean   3.037183e+07    14.127292     19.289649       91.969033   654.889104   \n",
      "std    1.250206e+08     3.524049      4.301036       24.298981   351.914129   \n",
      "min    8.670000e+03     6.981000      9.710000       43.790000   143.500000   \n",
      "25%    8.692180e+05    11.700000     16.170000       75.170000   420.300000   \n",
      "50%    9.060240e+05    13.370000     18.840000       86.240000   551.100000   \n",
      "75%    8.813129e+06    15.780000     21.800000      104.100000   782.700000   \n",
      "max    9.113205e+08    28.110000     39.280000      188.500000  2501.000000   \n",
      "\n",
      "       smoothness_mean  compactness_mean  concavity_mean  concave points_mean  \\\n",
      "count       565.000000        569.000000      569.000000           569.000000   \n",
      "mean          0.096336          0.104341        0.088799             0.048919   \n",
      "std           0.014029          0.052813        0.079720             0.038803   \n",
      "min           0.052630          0.019380        0.000000             0.000000   \n",
      "25%           0.086370          0.064920        0.029560             0.020310   \n",
      "50%           0.095860          0.092630        0.061540             0.033500   \n",
      "75%           0.105300          0.130400        0.130700             0.074000   \n",
      "max           0.163400          0.345400        0.426800             0.201200   \n",
      "\n",
      "       symmetry_mean  fractal_dimension_mean  \n",
      "count     564.000000              563.000000  \n",
      "mean        0.181233                0.062792  \n",
      "std         0.027453                0.007050  \n",
      "min         0.106000                0.049960  \n",
      "25%         0.161975                0.057750  \n",
      "50%         0.179250                0.061550  \n",
      "75%         0.195700                0.066120  \n",
      "max         0.304000                0.097440  \n",
      "<class 'pandas.core.frame.DataFrame'>\n",
      "RangeIndex: 569 entries, 0 to 568\n",
      "Data columns (total 12 columns):\n",
      " #   Column                  Non-Null Count  Dtype  \n",
      "---  ------                  --------------  -----  \n",
      " 0   id                      569 non-null    int64  \n",
      " 1   diagnosis               569 non-null    object \n",
      " 2   radius_mean             569 non-null    float64\n",
      " 3   texture_mean            569 non-null    float64\n",
      " 4   perimeter_mean          569 non-null    float64\n",
      " 5   area_mean               569 non-null    float64\n",
      " 6   smoothness_mean         565 non-null    float64\n",
      " 7   compactness_mean        569 non-null    float64\n",
      " 8   concavity_mean          569 non-null    float64\n",
      " 9   concave points_mean     569 non-null    float64\n",
      " 10  symmetry_mean           564 non-null    float64\n",
      " 11  fractal_dimension_mean  563 non-null    float64\n",
      "dtypes: float64(10), int64(1), object(1)\n",
      "memory usage: 53.5+ KB\n",
      "None\n"
     ]
    }
   ],
   "source": [
    "print(cancer_df.describe())\n",
    "print(cancer_df.info())\n",
    "# cancer_df.shape()"
   ]
  },
  {
   "cell_type": "code",
   "execution_count": 5,
   "id": "dd21dac5-47cd-41cc-83c4-308d0f04f71f",
   "metadata": {},
   "outputs": [
    {
     "data": {
      "text/plain": [
       "B    357\n",
       "M    212\n",
       "Name: diagnosis, dtype: int64"
      ]
     },
     "execution_count": 5,
     "metadata": {},
     "output_type": "execute_result"
    }
   ],
   "source": [
    "cancer_df['diagnosis'].value_counts(0, dropna=False)"
   ]
  },
  {
   "cell_type": "markdown",
   "id": "71369d7a-0f53-45e7-ad0b-7b05a5e146e3",
   "metadata": {},
   "source": [
    "### Can we use the columns (observations) in the df to predict malignant/benign?  True/False outcome.\n",
    "1. Diagnosis only has two values T/F There is no missing data.\n",
    "1. All other variables except ID can be candidates."
   ]
  },
  {
   "cell_type": "markdown",
   "id": "7737a9c4-8f50-42ef-ac23-1704101450e7",
   "metadata": {},
   "source": [
    "### Compute 1 or zero to flag is cancer is present..."
   ]
  },
  {
   "cell_type": "code",
   "execution_count": 6,
   "id": "06b12b1b-db9d-49f8-a4f8-5865d3ea423e",
   "metadata": {},
   "outputs": [],
   "source": [
    "cancer_df.loc[cancer_df['diagnosis']=='M', 'cancer_present'] = 1\n",
    "cancer_df.loc[cancer_df['diagnosis']=='B', 'cancer_present'] = 0"
   ]
  },
  {
   "cell_type": "markdown",
   "id": "b97bc717-c65c-491f-bfa2-ef8fb23899d6",
   "metadata": {},
   "source": [
    "### Compute 1 or zero to flag is cancer is present (Alternate approach)..."
   ]
  },
  {
   "cell_type": "code",
   "execution_count": 7,
   "id": "c7e27b80-cdcd-4a67-9329-fa9286998cc1",
   "metadata": {},
   "outputs": [
    {
     "data": {
      "text/plain": [
       "0    357\n",
       "1    212\n",
       "Name: cancer_present, dtype: int64"
      ]
     },
     "execution_count": 7,
     "metadata": {},
     "output_type": "execute_result"
    }
   ],
   "source": [
    "cancer_df['cancer_present'] = cancer_df['diagnosis'].apply(\n",
    "    lambda x: np.nan if pd.isnull(x) else\n",
    "    1 if x == 'M' else\n",
    "    0 if x == 'B' else\n",
    "    -1)\n",
    "cancer_df['cancer_present'].value_counts(0, dropna=False)"
   ]
  },
  {
   "cell_type": "markdown",
   "id": "6455a14b-f038-4c4f-a8d1-128d1912cced",
   "metadata": {},
   "source": [
    "### separate the features we're gonig to use as input.\n",
    "1. The remaining columns are numereic.\n",
    "1. Check for missing values."
   ]
  },
  {
   "cell_type": "code",
   "execution_count": 8,
   "id": "f93a0a38-2318-4467-a900-dc4f6f9088de",
   "metadata": {},
   "outputs": [
    {
     "data": {
      "text/plain": [
       "id                        0\n",
       "diagnosis                 0\n",
       "radius_mean               0\n",
       "texture_mean              0\n",
       "perimeter_mean            0\n",
       "area_mean                 0\n",
       "smoothness_mean           4\n",
       "compactness_mean          0\n",
       "concavity_mean            0\n",
       "concave points_mean       0\n",
       "symmetry_mean             5\n",
       "fractal_dimension_mean    6\n",
       "cancer_present            0\n",
       "dtype: int64"
      ]
     },
     "execution_count": 8,
     "metadata": {},
     "output_type": "execute_result"
    }
   ],
   "source": [
    "cancer_df.isnull().sum()"
   ]
  },
  {
   "cell_type": "markdown",
   "id": "a992c2f2-6144-4f7c-bfa3-b0945c16df74",
   "metadata": {},
   "source": [
    "### Split the data into target variable (diagnosis) and the input features.\n",
    "1. X - input matrix of values to use for prediction\n",
    "1. y = pandas series/dataframe with the answer."
   ]
  },
  {
   "cell_type": "code",
   "execution_count": 9,
   "id": "b34f7bc4-6b20-44ca-a23a-376db9810a97",
   "metadata": {},
   "outputs": [
    {
     "name": "stdout",
     "output_type": "stream",
     "text": [
      "<class 'pandas.core.frame.DataFrame'> <class 'pandas.core.series.Series'>\n"
     ]
    }
   ],
   "source": [
    "#  Use the rest of the features as input\n",
    "# cancer_df.columns\n",
    "input_features = list(cancer_df.columns[2:])\n",
    "# print(input_features)\n",
    "X = cancer_df[input_features]\n",
    "y = cancer_df['diagnosis']\n",
    "print(type(X), type(y))"
   ]
  },
  {
   "cell_type": "markdown",
   "id": "1c844452-4aac-4978-a7ee-2627b66422ac",
   "metadata": {},
   "source": [
    "#  Horizontlly split the data into training and validatrion rows.\n",
    "1. classification\n",
    "1. regression\n",
    "1. ???\n",
    "\n",
    "Look into parameters for scikit-learn"
   ]
  },
  {
   "cell_type": "code",
   "execution_count": 10,
   "id": "58c5c83e-3ed8-4fcc-a5f5-c34209686e63",
   "metadata": {},
   "outputs": [
    {
     "name": "stdout",
     "output_type": "stream",
     "text": [
      "(426, 11) (143, 11) (426,) (143,)\n"
     ]
    }
   ],
   "source": [
    "from sklearn.model_selection import train_test_split\n",
    "cancer_X_train, cancer_X_test, cancer_y_train, cancer_y_test = train_test_split(X, y, test_size=0.25, random_state=0)  #  25% test size\n",
    "print(cancer_X_train.shape, cancer_X_test.shape, cancer_y_train.shape, cancer_y_test.shape)"
   ]
  },
  {
   "cell_type": "markdown",
   "id": "38d1ecbd-83f2-44f5-b634-a97e65f0e54b",
   "metadata": {},
   "source": [
    "### We want the scale of the columns to be similar, otherwise it may have a larger impact on the prediction.  This is called normalization. Build a model pipeline.\n",
    "1. fix missing values.\n",
    "1. normalize the different columjs/features such that the transformed features are roughly on the same scale.  This will make ML's job easier."
   ]
  },
  {
   "cell_type": "code",
   "execution_count": 11,
   "id": "d8802b9d-64df-4661-883b-878e580b738e",
   "metadata": {},
   "outputs": [
    {
     "data": {
      "text/html": [
       "<style>#sk-container-id-1 {color: black;background-color: white;}#sk-container-id-1 pre{padding: 0;}#sk-container-id-1 div.sk-toggleable {background-color: white;}#sk-container-id-1 label.sk-toggleable__label {cursor: pointer;display: block;width: 100%;margin-bottom: 0;padding: 0.3em;box-sizing: border-box;text-align: center;}#sk-container-id-1 label.sk-toggleable__label-arrow:before {content: \"▸\";float: left;margin-right: 0.25em;color: #696969;}#sk-container-id-1 label.sk-toggleable__label-arrow:hover:before {color: black;}#sk-container-id-1 div.sk-estimator:hover label.sk-toggleable__label-arrow:before {color: black;}#sk-container-id-1 div.sk-toggleable__content {max-height: 0;max-width: 0;overflow: hidden;text-align: left;background-color: #f0f8ff;}#sk-container-id-1 div.sk-toggleable__content pre {margin: 0.2em;color: black;border-radius: 0.25em;background-color: #f0f8ff;}#sk-container-id-1 input.sk-toggleable__control:checked~div.sk-toggleable__content {max-height: 200px;max-width: 100%;overflow: auto;}#sk-container-id-1 input.sk-toggleable__control:checked~label.sk-toggleable__label-arrow:before {content: \"▾\";}#sk-container-id-1 div.sk-estimator input.sk-toggleable__control:checked~label.sk-toggleable__label {background-color: #d4ebff;}#sk-container-id-1 div.sk-label input.sk-toggleable__control:checked~label.sk-toggleable__label {background-color: #d4ebff;}#sk-container-id-1 input.sk-hidden--visually {border: 0;clip: rect(1px 1px 1px 1px);clip: rect(1px, 1px, 1px, 1px);height: 1px;margin: -1px;overflow: hidden;padding: 0;position: absolute;width: 1px;}#sk-container-id-1 div.sk-estimator {font-family: monospace;background-color: #f0f8ff;border: 1px dotted black;border-radius: 0.25em;box-sizing: border-box;margin-bottom: 0.5em;}#sk-container-id-1 div.sk-estimator:hover {background-color: #d4ebff;}#sk-container-id-1 div.sk-parallel-item::after {content: \"\";width: 100%;border-bottom: 1px solid gray;flex-grow: 1;}#sk-container-id-1 div.sk-label:hover label.sk-toggleable__label {background-color: #d4ebff;}#sk-container-id-1 div.sk-serial::before {content: \"\";position: absolute;border-left: 1px solid gray;box-sizing: border-box;top: 0;bottom: 0;left: 50%;z-index: 0;}#sk-container-id-1 div.sk-serial {display: flex;flex-direction: column;align-items: center;background-color: white;padding-right: 0.2em;padding-left: 0.2em;position: relative;}#sk-container-id-1 div.sk-item {position: relative;z-index: 1;}#sk-container-id-1 div.sk-parallel {display: flex;align-items: stretch;justify-content: center;background-color: white;position: relative;}#sk-container-id-1 div.sk-item::before, #sk-container-id-1 div.sk-parallel-item::before {content: \"\";position: absolute;border-left: 1px solid gray;box-sizing: border-box;top: 0;bottom: 0;left: 50%;z-index: -1;}#sk-container-id-1 div.sk-parallel-item {display: flex;flex-direction: column;z-index: 1;position: relative;background-color: white;}#sk-container-id-1 div.sk-parallel-item:first-child::after {align-self: flex-end;width: 50%;}#sk-container-id-1 div.sk-parallel-item:last-child::after {align-self: flex-start;width: 50%;}#sk-container-id-1 div.sk-parallel-item:only-child::after {width: 0;}#sk-container-id-1 div.sk-dashed-wrapped {border: 1px dashed gray;margin: 0 0.4em 0.5em 0.4em;box-sizing: border-box;padding-bottom: 0.4em;background-color: white;}#sk-container-id-1 div.sk-label label {font-family: monospace;font-weight: bold;display: inline-block;line-height: 1.2em;}#sk-container-id-1 div.sk-label-container {text-align: center;}#sk-container-id-1 div.sk-container {/* jupyter's `normalize.less` sets `[hidden] { display: none; }` but bootstrap.min.css set `[hidden] { display: none !important; }` so we also need the `!important` here to be able to override the default hidden behavior on the sphinx rendered scikit-learn.org. See: https://github.com/scikit-learn/scikit-learn/issues/21755 */display: inline-block !important;position: relative;}#sk-container-id-1 div.sk-text-repr-fallback {display: none;}</style><div id=\"sk-container-id-1\" class=\"sk-top-container\"><div class=\"sk-text-repr-fallback\"><pre>Pipeline(steps=[(&#x27;imp_mean&#x27;, SimpleImputer()), (&#x27;scaler&#x27;, StandardScaler()),\n",
       "                (&#x27;tree&#x27;,\n",
       "                 DecisionTreeClassifier(criterion=&#x27;entropy&#x27;, random_state=0))])</pre><b>In a Jupyter environment, please rerun this cell to show the HTML representation or trust the notebook. <br />On GitHub, the HTML representation is unable to render, please try loading this page with nbviewer.org.</b></div><div class=\"sk-container\" hidden><div class=\"sk-item sk-dashed-wrapped\"><div class=\"sk-label-container\"><div class=\"sk-label sk-toggleable\"><input class=\"sk-toggleable__control sk-hidden--visually\" id=\"sk-estimator-id-1\" type=\"checkbox\" ><label for=\"sk-estimator-id-1\" class=\"sk-toggleable__label sk-toggleable__label-arrow\">Pipeline</label><div class=\"sk-toggleable__content\"><pre>Pipeline(steps=[(&#x27;imp_mean&#x27;, SimpleImputer()), (&#x27;scaler&#x27;, StandardScaler()),\n",
       "                (&#x27;tree&#x27;,\n",
       "                 DecisionTreeClassifier(criterion=&#x27;entropy&#x27;, random_state=0))])</pre></div></div></div><div class=\"sk-serial\"><div class=\"sk-item\"><div class=\"sk-estimator sk-toggleable\"><input class=\"sk-toggleable__control sk-hidden--visually\" id=\"sk-estimator-id-2\" type=\"checkbox\" ><label for=\"sk-estimator-id-2\" class=\"sk-toggleable__label sk-toggleable__label-arrow\">SimpleImputer</label><div class=\"sk-toggleable__content\"><pre>SimpleImputer()</pre></div></div></div><div class=\"sk-item\"><div class=\"sk-estimator sk-toggleable\"><input class=\"sk-toggleable__control sk-hidden--visually\" id=\"sk-estimator-id-3\" type=\"checkbox\" ><label for=\"sk-estimator-id-3\" class=\"sk-toggleable__label sk-toggleable__label-arrow\">StandardScaler</label><div class=\"sk-toggleable__content\"><pre>StandardScaler()</pre></div></div></div><div class=\"sk-item\"><div class=\"sk-estimator sk-toggleable\"><input class=\"sk-toggleable__control sk-hidden--visually\" id=\"sk-estimator-id-4\" type=\"checkbox\" ><label for=\"sk-estimator-id-4\" class=\"sk-toggleable__label sk-toggleable__label-arrow\">DecisionTreeClassifier</label><div class=\"sk-toggleable__content\"><pre>DecisionTreeClassifier(criterion=&#x27;entropy&#x27;, random_state=0)</pre></div></div></div></div></div></div></div>"
      ],
      "text/plain": [
       "Pipeline(steps=[('imp_mean', SimpleImputer()), ('scaler', StandardScaler()),\n",
       "                ('tree',\n",
       "                 DecisionTreeClassifier(criterion='entropy', random_state=0))])"
      ]
     },
     "execution_count": 11,
     "metadata": {},
     "output_type": "execute_result"
    }
   ],
   "source": [
    "tree1 = Pipeline([\n",
    "    ('imp_mean', SimpleImputer(missing_values=np.nan, strategy='mean')),\n",
    "    ('scaler', StandardScaler()),\n",
    "    ('tree', DecisionTreeClassifier(criterion='entropy', random_state=0))\n",
    "])\n",
    "    \n",
    "tree1.fit(cancer_X_train, cancer_y_train)"
   ]
  },
  {
   "cell_type": "markdown",
   "id": "03e4e131-1f10-48d8-8104-53cb679cd472",
   "metadata": {},
   "source": [
    "### Now evaluate the pipeline/model performance. using cross validation."
   ]
  },
  {
   "cell_type": "code",
   "execution_count": 13,
   "id": "60af9925-f153-4f9a-96d5-17f10632414a",
   "metadata": {},
   "outputs": [
    {
     "name": "stdout",
     "output_type": "stream",
     "text": [
      "[1. 1. 1. 1. 1. 1. 1. 1. 1. 1.]\n"
     ]
    }
   ],
   "source": [
    "perf_scores = cross_val_score(tree1, cancer_X_train, cancer_y_train, cv=10)\n",
    "# perf_scores is an array.  Clos to 1.0 indicates perfect, 0.00 is garbage.  Alll values of 1.0 is suspicious and indicates model over-fitting. (memorizing inputs)\n",
    "print(perf_scores)\n",
    "#  Our problem here is that [cancer_present] is included in our training data."
   ]
  },
  {
   "cell_type": "markdown",
   "id": "9479c278-f988-4e64-a489-674528edc1e5",
   "metadata": {},
   "source": [
    "# Practice Interview \n",
    "- Practice writing a class with constructor and properties\n",
    "- data types\n",
    "- correlation\n",
    "- finding missing values\n",
    "- noSQL - focus on EDA & Predictive analysis.\n",
    "- Search youtube for practice interview questions."
   ]
  },
  {
   "cell_type": "markdown",
   "id": "5cab09a3-f881-40b9-a79a-5ea4ec70ddc6",
   "metadata": {},
   "source": [
    "### Get notes from the video\n",
    "https://grandcircus.zoom.us/rec/share/-5PcKvHjjHCuqZJ3gK6EL5_8ic4G0qRUieWCQfihCFftipKC8i0DFygtrB2rx5sm.Vi_-rksBcOWTKPz8\n",
    "Passcode: pB38@FT%\n",
    "\n",
    "\n",
    "### Google Colab URL:\n",
    "https://colab.research.google.com/drive/1bhN-QB6Mp5ttnx6Req-OqZJ0HUlPEA9h#scrollTo=Sq1Xomc_tWLV"
   ]
  },
  {
   "cell_type": "code",
   "execution_count": null,
   "id": "134b42c5-ecab-4767-8ec5-ff7b50c82813",
   "metadata": {},
   "outputs": [],
   "source": []
  },
  {
   "cell_type": "markdown",
   "id": "46ff496f-0ed0-455a-8142-18ca13996bfb",
   "metadata": {},
   "source": [
    "### 05/18/2023 - recap colab..."
   ]
  },
  {
   "cell_type": "code",
   "execution_count": 1,
   "id": "1a793ef8-74c3-4511-bccf-5ee2d2358355",
   "metadata": {},
   "outputs": [],
   "source": [
    "### if we sns.plot the dataset can show linear relatinoships in the data."
   ]
  },
  {
   "cell_type": "markdown",
   "id": "84baf9ab-baab-4baf-ab91-cd75ed1fa228",
   "metadata": {},
   "source": [
    "###  train_test_split() separates a percentage of data for training.  The remaining data will be used for cross validation.\n",
    "### We need to address two issues:\n",
    "- Missing data\n",
    "- normalize the scale of ther data.\n",
    "\n",
    "Look deeper into imp_mean, scaler, tree in the Pipeline() function."
   ]
  },
  {
   "cell_type": "markdown",
   "id": "8dadaf77-8bd0-4057-ac72-846f6cac7e11",
   "metadata": {},
   "source": [
    "### tree1.score(x_test, y_test) tests accuracy of the model.  If everything is 10% accurater - it should raise a red flag.  Are we overfitting?\n",
    "- we wnt the model to predict, not memorize.\n",
    "- max_depth limits the tree depth.  \n",
    "-- Does it increase performnance?  \n",
    "-- What result does it return?\n",
    "- look at confusion matrix - wiki link in Jason's colab.\n",
    "- There's a function n sklearn\n",
    "### Confusion matrix:\n",
    "https://en.wikipedia.org/wiki/Confusion_matrix\n",
    "- accuracy = \n",
    "- precision = tp/(tp+fp)\n",
    "- recall = tp/(tp+fn)\n",
    "Should not judge models imbalanced data set on accuracy!\n",
    "### accuracy_score from sklearn gives us precision, recall, F1 and support."
   ]
  },
  {
   "cell_type": "markdown",
   "id": "7f3035df-0023-4116-a543-d21f7375535e",
   "metadata": {},
   "source": [
    "### Permutation importance.\n",
    "### Feature importance - using different metrics.\n",
    "- If the relative importance matches, they will probably be a good candidate,\n"
   ]
  },
  {
   "cell_type": "code",
   "execution_count": 5,
   "id": "2bb100c8-c394-4390-9631-254be77ecafd",
   "metadata": {},
   "outputs": [
    {
     "name": "stdout",
     "output_type": "stream",
     "text": [
      "24 75.2\n",
      "25 77.0\n",
      "26 78.8\n",
      "27 80.6\n",
      "28 82.4\n",
      "29 84.2\n",
      "30 86.0\n",
      "31 87.8\n"
     ]
    }
   ],
   "source": [
    "for i in range(24, 32):\n",
    "    print(i, i*9/5+32)"
   ]
  },
  {
   "cell_type": "code",
   "execution_count": null,
   "id": "09ef0285-1284-44af-91a7-0e5fab864716",
   "metadata": {},
   "outputs": [],
   "source": []
  }
 ],
 "metadata": {
  "kernelspec": {
   "display_name": "Python 3 (ipykernel)",
   "language": "python",
   "name": "python3"
  },
  "language_info": {
   "codemirror_mode": {
    "name": "ipython",
    "version": 3
   },
   "file_extension": ".py",
   "mimetype": "text/x-python",
   "name": "python",
   "nbconvert_exporter": "python",
   "pygments_lexer": "ipython3",
   "version": "3.10.9"
  }
 },
 "nbformat": 4,
 "nbformat_minor": 5
}
