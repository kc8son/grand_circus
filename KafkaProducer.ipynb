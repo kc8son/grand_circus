{
 "cells": [
  {
   "cell_type": "markdown",
   "id": "ddb9bc53",
   "metadata": {},
   "source": [
    "# Wikimedia Messages - Kafka Pipeline - python producer\n",
    "## Joe Merten\n",
    "Connect to wikimedia and pull data"
   ]
  },
  {
   "cell_type": "code",
   "execution_count": 2,
   "id": "8a84731f",
   "metadata": {},
   "outputs": [
    {
     "name": "stdout",
     "output_type": "stream",
     "text": [
      "Iteration: 1\n",
      "Iteration: 2\n",
      "Iteration: 3\n",
      "Iteration: 4\n",
      "Iteration: 5\n",
      "Iteration: 6\n",
      "Iteration: 7\n",
      "Iteration: 8\n",
      "Iteration: 9\n",
      "Iteration: 10\n",
      "Iteration: 11\n",
      "Iteration: 12\n",
      "Iteration: 13\n",
      "Iteration: 14\n",
      "Iteration: 15\n",
      "Iteration: 16\n",
      "Iteration: 17\n",
      "Iteration: 18\n",
      "Iteration: 19\n",
      "Iteration: 20\n",
      "Iteration: 21\n",
      "Iteration: 22\n",
      "Iteration: 23\n",
      "Iteration: 24\n",
      "Iteration: 25\n",
      "Iteration: 26\n",
      "Iteration: 27\n",
      "Iteration: 28\n",
      "Iteration: 29\n",
      "Iteration: 30\n",
      "Iteration: 31\n"
     ]
    }
   ],
   "source": [
    "import os\n",
    "import time\n",
    "import random\n",
    "import json\n",
    "from kafka import KafkaProducer\n",
    "KAFKA_BOOTSTRAP_SERVERS = os.environ.get(\"KAFKA_BOOTSTRAP_SERVERS\", \"localhost:29092\")\n",
    "KAFKA_TOPIC_TEST = os.environ.get(\"KAFKA_TOPIC_TEST\", \"test\")\n",
    "KAFKA_API_VERSION = os.environ.get(\"KAFKA_API_VERSION\", \"7.3.1\")\n",
    "producer = KafkaProducer(\n",
    "    bootstrap_servers=[KAFKA_BOOTSTRAP_SERVERS],\n",
    "    api_version=KAFKA_API_VERSION,\n",
    ")\n",
    "i = 0\n",
    "while i <= 30:\n",
    "    producer.send(\n",
    "        KAFKA_TOPIC_TEST,\n",
    "        json.dumps({\"message\": f\"Hello, Kafka! - test {i}\"}).encode(\"utf-8\"),\n",
    "    )\n",
    "    i += 1\n",
    "    print(f\"Iteration: {i}\")\n",
    "    time.sleep(random.randint(1, 5))\n",
    "producer.flush()"
   ]
  },
  {
   "cell_type": "code",
   "execution_count": null,
   "id": "2d54f668",
   "metadata": {},
   "outputs": [],
   "source": []
  }
 ],
 "metadata": {
  "kernelspec": {
   "display_name": "Python 3 (ipykernel)",
   "language": "python",
   "name": "python3"
  },
  "language_info": {
   "codemirror_mode": {
    "name": "ipython",
    "version": 3
   },
   "file_extension": ".py",
   "mimetype": "text/x-python",
   "name": "python",
   "nbconvert_exporter": "python",
   "pygments_lexer": "ipython3",
   "version": "3.10.9"
  }
 },
 "nbformat": 4,
 "nbformat_minor": 5
}
