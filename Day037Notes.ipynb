{
 "cells": [
  {
   "cell_type": "markdown",
   "id": "1c710fda-ce6e-4149-813a-ee9a61d83900",
   "metadata": {},
   "source": [
    "# Day037 - May 22, 2023 - Exploratory Data Analysis\n",
    "## Data Analytics 2: Data Visualization & Predictions\n",
    "### Class notes\n",
    "\n",
    "## Written by: Josep P Merten\n",
    "\n",
    "Deeper discussion about the pipeline in Jason's workbook,\n",
    "https://colab.research.google.com/drive/1bhN-QB6Mp5ttnx6Req-OqZJ0HUlPEA9h#scrollTo=qSXGWTxegsXS\n",
    "\n",
    "- hyper parameter tuning\n",
    "https://www.jeremyjordan.me/hyperparameter-tuning/\n",
    "1. Max_depth\n",
    "1. random_state\n",
    "1. learning_rate"
   ]
  },
  {
   "cell_type": "markdown",
   "id": "ee483f72-f2a2-445d-a3c9-20673abd26f3",
   "metadata": {},
   "source": [
    "### Save the model using \n",
    "- import joblib\n",
    "\n",
    "joblib.dump(tree2, 'tree2.pkl')\n",
    "\n",
    "my_new_treee = joblib.load('tree2.pkl')"
   ]
  },
  {
   "cell_type": "markdown",
   "id": "1489d779-bc71-40b9-8b78-84b75414d36f",
   "metadata": {},
   "source": [
    "google:  scikit-learn algorithm cheat sheet\n",
    "- https://www.google.com/search?q=scikit-learn+algorithm+cheat+sheet&oq=scikit-learn+algorithm+cheat+sheet&gs_lcrp=EgZjaHJvbWUyBggAEEUYOTIHCAEQABiABDIICAIQABgWGB4yCAgDEAAYFhgeMgoIBBAAGIYDGIoFMgoIBRAAGIYDGIoFMgoIBhAAGIYDGIoFMgoIBxAAGIYDGIoF0gEJMTU1M2owajE1qAIAsAIA&sourceid=chrome&ie=UTF-8\n",
    "\n",
    "Look at some of tese visuals..\n",
    "\n",
    "1. Is the problem classification or regression (or NLP or picture analysis)\n",
    "1. benchmark decision tree\n",
    "1. then pick another algorithm & compare\n",
    "\n",
    "### Switching to PowerBI\n",
    "- Get connected to this dashboard: https://app.powerbi.com/groups/me/reports/8084d81b-952f-48ac-81be-29ebf907d348/ReportSection\n",
    "- dataset for cookies: Local from Jason\n",
    "- world population data: https://en.wikipedia.org/wiki/List_of_countries_and_dependencies_by_population\n",
    "- "
   ]
  },
  {
   "cell_type": "markdown",
   "id": "0b7c3209-0757-4c13-85c0-31fd682336b7",
   "metadata": {},
   "source": [
    "### github links...\n",
    "- Example from Chitra: https://github.com/ChitraChaudhari/GC_DataEngineering_Bootcamp/blob/main/ML/multiple_linear_regression.ipynb\n",
    "- Example from Dionta: https://github.com/diontajones/GPA-Preditor/blob/main/GPA_Predictor.ipynb"
   ]
  },
  {
   "cell_type": "code",
   "execution_count": null,
   "id": "1568be77-0a30-410c-9274-dd24e60cf5b4",
   "metadata": {},
   "outputs": [],
   "source": []
  }
 ],
 "metadata": {
  "kernelspec": {
   "display_name": "Python 3 (ipykernel)",
   "language": "python",
   "name": "python3"
  },
  "language_info": {
   "codemirror_mode": {
    "name": "ipython",
    "version": 3
   },
   "file_extension": ".py",
   "mimetype": "text/x-python",
   "name": "python",
   "nbconvert_exporter": "python",
   "pygments_lexer": "ipython3",
   "version": "3.10.9"
  }
 },
 "nbformat": 4,
 "nbformat_minor": 5
}
