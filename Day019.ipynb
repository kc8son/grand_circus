{
 "cells": [
  {
   "cell_type": "markdown",
   "metadata": {},
   "source": [
    "\n",
    "# Day 19: WTA Matches - Importing Data\n",
    "\n",
    "\n",
    "[Requirements documentation](https://docs.google.com/document/d/1mUSGXX6UdfvGw5faAru7LuYUHNCt9I0dZLtB5enM5P8/preview#heading=h.rfelkkkw1wcf)\n",
    "\n",
    "Date Written: 04/12/2023\n",
    "Author: Joseph P. Merten\n"
   ]
  },
  {
   "cell_type": "markdown",
   "metadata": {},
   "source": [
    "\n",
    "### Import required libraries.  In this case pandas...\n"
   ]
  },
  {
   "cell_type": "code",
   "execution_count": 11,
   "metadata": {},
   "outputs": [],
   "source": [
    "#   imports\n",
    "import pandas as pd\n"
   ]
  },
  {
   "cell_type": "markdown",
   "metadata": {},
   "source": [
    "\n",
    "### Set variables for file locations...\n"
   ]
  },
  {
   "cell_type": "code",
   "execution_count": 12,
   "metadata": {},
   "outputs": [],
   "source": [
    "#   Variables\n",
    "csv_path = \"./wta_matches_2022/wta_matches_2022.csv\"\n",
    "tsv_path = \"./wta_matches_2022/wta_matches_2022.tsv\"\n",
    "xls_path = \"./wta_matches_2022/wta_matches_2022.xlsx\"\n",
    "parquet_path = \"./wta_matches_2022/wta_matches_2022.parquet\"\n"
   ]
  },
  {
   "cell_type": "markdown",
   "metadata": {},
   "source": [
    "\n",
    "### Define functions to read in data iles...\n"
   ]
  },
  {
   "cell_type": "code",
   "execution_count": 13,
   "metadata": {},
   "outputs": [],
   "source": [
    "#   Functions\n",
    "def q1():\n",
    "    \"\"\"Download the wta_matches_2022.csv file. Read the file into a DataFrame and\n",
    "    display the first five rows.\"\"\"\n",
    "    df_csv = pd.read_csv(csv_path)\n",
    "    print(df_csv.head(5))\n",
    "    return\n",
    "\n",
    "\n",
    "def q2():\n",
    "    \"\"\"Download the wta_matches_2022.tsv file. Read the file into a DataFrame and display the\n",
    "    first five rows. (Note this is a tab separated file, meaning it uses the tab character as\n",
    "    a delimiter.)\"\"\"\n",
    "    df_tsv = pd.read_csv(tsv_path, sep=\"\\t\")\n",
    "    print(df_tsv.head(5))\n",
    "    return\n",
    "\n",
    "def q3():\n",
    "    \"\"\"Read the wta_matches_2022.xlsx file into a DataFrame and display the last five rows.\"\"\"\n",
    "    df_xls = pd.read_excel(xls_path)\n",
    "    print(df_xls.tail(5))\n",
    "    return\n",
    "\n",
    "\n",
    "def q4():\n",
    "    \"\"\"Read the wta_matches_2022.parquet file into a DataFrame and use the .describe()\n",
    "    function to describe the dataset.\"\"\"\n",
    "    print(parquet_path)\n",
    "    df_parquet = pd.read_parquet(parquet_path)\n",
    "    print(df_parquet.describe())\n",
    "    return\n"
   ]
  },
  {
   "cell_type": "markdown",
   "metadata": {},
   "source": [
    "\n",
    "### Question 1:\n",
    "Download the wta_matches_2022.csv file. Read the file into a DataFrame and display the first five rows.\n"
   ]
  },
  {
   "cell_type": "code",
   "execution_count": 14,
   "metadata": {},
   "outputs": [
    {
     "name": "stdout",
     "output_type": "stream",
     "text": [
      "CPU times: user 3 µs, sys: 2 µs, total: 5 µs\n",
      "Wall time: 35.3 µs\n",
      "  tourney_id tourney_name surface  draw_size tourney_level  tourney_date  \\\n",
      "0  2022-2014   Adelaide 1    Hard         30             P      20220103   \n",
      "1  2022-2014   Adelaide 1    Hard         30             P      20220103   \n",
      "2  2022-2014   Adelaide 1    Hard         30             P      20220103   \n",
      "3  2022-2014   Adelaide 1    Hard         30             P      20220103   \n",
      "4  2022-2014   Adelaide 1    Hard         30             P      20220103   \n",
      "\n",
      "   match_num  winner_id winner_seed winner_entry  ... l_1stIn l_1stWon  \\\n",
      "0        300     202458           1          NaN  ...    19.0     16.0   \n",
      "1        299     202458           1          NaN  ...    39.0     27.0   \n",
      "2        298     214981           7          NaN  ...    45.0     29.0   \n",
      "3        297     202458           1          NaN  ...    54.0     34.0   \n",
      "4        296     216347           5          NaN  ...    45.0     30.0   \n",
      "\n",
      "   l_2ndWon l_SvGms  l_bpSaved  l_bpFaced winner_rank winner_rank_points  \\\n",
      "0      11.0     8.0        0.0        3.0         1.0             7582.0   \n",
      "1       9.0     9.0        2.0        5.0         1.0             7582.0   \n",
      "2      12.0    10.0        7.0       11.0        14.0             2855.0   \n",
      "3       7.0     9.0        7.0        9.0         1.0             7582.0   \n",
      "4      12.0    12.0        6.0       11.0         9.0             3786.0   \n",
      "\n",
      "  loser_rank loser_rank_points  \n",
      "0       14.0            2855.0  \n",
      "1        9.0            3786.0  \n",
      "2      105.0             771.0  \n",
      "3       12.0            2971.0  \n",
      "4       27.0            2166.0  \n",
      "\n",
      "[5 rows x 49 columns]\n"
     ]
    }
   ],
   "source": [
    "%time\n",
    "q1()"
   ]
  },
  {
   "cell_type": "markdown",
   "metadata": {},
   "source": [
    "\n",
    "### Question 2:\n",
    "Download the wta_matches_2022.tsv file. Read the file into a DataFrame and display the first five rows. (Note this is a tab separated file, meaning it uses the tab character as a delimiter.) \n"
   ]
  },
  {
   "cell_type": "code",
   "execution_count": 15,
   "metadata": {},
   "outputs": [
    {
     "name": "stdout",
     "output_type": "stream",
     "text": [
      "CPU times: user 2 µs, sys: 1 µs, total: 3 µs\n",
      "Wall time: 8.34 µs\n",
      "  tourney_id tourney_name surface  draw_size tourney_level  tourney_date  \\\n",
      "0  2022-2014   Adelaide 1    Hard         30             P      20220103   \n",
      "1  2022-2014   Adelaide 1    Hard         30             P      20220103   \n",
      "2  2022-2014   Adelaide 1    Hard         30             P      20220103   \n",
      "3  2022-2014   Adelaide 1    Hard         30             P      20220103   \n",
      "4  2022-2014   Adelaide 1    Hard         30             P      20220103   \n",
      "\n",
      "   match_num  winner_id winner_seed winner_entry  ... l_1stIn l_1stWon  \\\n",
      "0        300     202458           1          NaN  ...    19.0     16.0   \n",
      "1        299     202458           1          NaN  ...    39.0     27.0   \n",
      "2        298     214981           7          NaN  ...    45.0     29.0   \n",
      "3        297     202458           1          NaN  ...    54.0     34.0   \n",
      "4        296     216347           5          NaN  ...    45.0     30.0   \n",
      "\n",
      "   l_2ndWon l_SvGms  l_bpSaved  l_bpFaced winner_rank winner_rank_points  \\\n",
      "0      11.0     8.0        0.0        3.0         1.0             7582.0   \n",
      "1       9.0     9.0        2.0        5.0         1.0             7582.0   \n",
      "2      12.0    10.0        7.0       11.0        14.0             2855.0   \n",
      "3       7.0     9.0        7.0        9.0         1.0             7582.0   \n",
      "4      12.0    12.0        6.0       11.0         9.0             3786.0   \n",
      "\n",
      "  loser_rank loser_rank_points  \n",
      "0       14.0            2855.0  \n",
      "1        9.0            3786.0  \n",
      "2      105.0             771.0  \n",
      "3       12.0            2971.0  \n",
      "4       27.0            2166.0  \n",
      "\n",
      "[5 rows x 49 columns]\n"
     ]
    }
   ],
   "source": [
    "%time\n",
    "q2()"
   ]
  },
  {
   "cell_type": "markdown",
   "metadata": {},
   "source": [
    "\n",
    "### Question 3:\n",
    "Read the wta_matches_2022.xlsx file into a DataFrame and display the last five rows.\n"
   ]
  },
  {
   "cell_type": "code",
   "execution_count": 16,
   "metadata": {},
   "outputs": [
    {
     "name": "stdout",
     "output_type": "stream",
     "text": [
      "CPU times: user 3 µs, sys: 2 µs, total: 5 µs\n",
      "Wall time: 6.91 µs\n",
      "                           tourney_id                tourney_name surface  \\\n",
      "2589  2022-W-FC-2022-QLS-M-ROU-POL-01  BJK Cup QLS R1: ROU vs POL    Hard   \n",
      "2590  2022-W-FC-2022-QLS-M-USA-UKR-01  BJK Cup QLS R1: USA vs UKR    Hard   \n",
      "2591  2022-W-FC-2022-QLS-M-USA-UKR-01  BJK Cup QLS R1: USA vs UKR    Hard   \n",
      "2592  2022-W-FC-2022-QLS-M-USA-UKR-01  BJK Cup QLS R1: USA vs UKR    Hard   \n",
      "2593  2022-W-FC-2022-QLS-M-USA-UKR-01  BJK Cup QLS R1: USA vs UKR    Hard   \n",
      "\n",
      "      draw_size tourney_level  tourney_date  match_num  winner_id winner_seed  \\\n",
      "2589          4             D      20220415          3     216347         NaN   \n",
      "2590          4             D      20220415          1     201590         NaN   \n",
      "2591          4             D      20220415          2     202468         NaN   \n",
      "2592          4             D      20220415          3     215035         NaN   \n",
      "2593          4             D      20220415          4     215290         NaN   \n",
      "\n",
      "     winner_entry  ... l_1stIn l_1stWon  l_2ndWon l_SvGms  l_bpSaved  \\\n",
      "2589          NaN  ...    21.0      7.0       1.0     6.0        0.0   \n",
      "2590          NaN  ...    54.0     36.0      20.0    12.0        4.0   \n",
      "2591          NaN  ...    29.0     16.0       3.0     7.0        2.0   \n",
      "2592          NaN  ...    36.0     24.0      16.0     9.0        5.0   \n",
      "2593          NaN  ...    34.0     22.0       6.0     9.0        4.0   \n",
      "\n",
      "      l_bpFaced winner_rank winner_rank_points loser_rank loser_rank_points  \n",
      "2589        6.0         1.0             6711.0      324.0             186.0  \n",
      "2590        8.0        43.0             1201.0       93.0             709.0  \n",
      "2591        7.0        14.0             2510.0      201.0             334.0  \n",
      "2592        8.0        93.0              709.0       14.0            2510.0  \n",
      "2593        9.0       201.0              334.0       46.0            1164.0  \n",
      "\n",
      "[5 rows x 49 columns]\n"
     ]
    }
   ],
   "source": [
    "%time\n",
    "q3()"
   ]
  },
  {
   "cell_type": "markdown",
   "metadata": {},
   "source": [
    "\n",
    "### Question 4:\n",
    "Read the wta_matches_2022.parquet file into a DataFrame and use the .describe() function to describe the dataset.\n"
   ]
  },
  {
   "cell_type": "code",
   "execution_count": 17,
   "metadata": {},
   "outputs": [
    {
     "name": "stdout",
     "output_type": "stream",
     "text": [
      "CPU times: user 3 µs, sys: 1 µs, total: 4 µs\n",
      "Wall time: 6.91 µs\n",
      "./wta_matches_2022/wta_matches_2022.parquet\n",
      "         draw_size  tourney_date    match_num      winner_id    winner_ht  \\\n",
      "count  2594.000000  2.594000e+03  2594.000000    2594.000000  2284.000000   \n",
      "mean     58.169622  2.022057e+07   231.574402  208749.718196   174.442207   \n",
      "std      40.908905  2.837332e+02    87.224054    6905.465396     5.769077   \n",
      "min       2.000000  2.022010e+07     1.000000  200033.000000   157.000000   \n",
      "25%      32.000000  2.022032e+07   199.000000  202434.000000   170.000000   \n",
      "50%      32.000000  2.022061e+07   275.000000  206290.500000   175.000000   \n",
      "75%      96.000000  2.022082e+07   288.000000  214643.000000   179.000000   \n",
      "max     128.000000  2.022111e+07   300.000000  260672.000000   185.000000   \n",
      "\n",
      "        winner_age       loser_id     loser_ht    loser_age  best_of  ...  \\\n",
      "count  2592.000000    2594.000000  2040.000000  2590.000000   2594.0  ...   \n",
      "mean     26.284375  209466.639938   173.944118    26.171776      3.0  ...   \n",
      "std       4.186044    7397.775922     6.056689     4.313521      0.0  ...   \n",
      "min      16.300000  200033.000000   157.000000    14.800000      3.0  ...   \n",
      "25%      23.500000  202468.000000   170.000000    23.200000      3.0  ...   \n",
      "50%      26.200000  210730.000000   175.000000    26.100000      3.0  ...   \n",
      "75%      29.000000  214906.000000   179.000000    29.000000      3.0  ...   \n",
      "max      40.900000  260672.000000   186.000000    42.100000      3.0  ...   \n",
      "\n",
      "           l_1stIn     l_1stWon     l_2ndWon      l_SvGms    l_bpSaved  \\\n",
      "count  2488.000000  2488.000000  2488.000000  2488.000000  2488.000000   \n",
      "mean     44.238746    25.772106    10.982315    10.549437     4.850884   \n",
      "std      15.612674    10.662264     5.572248     2.955502     3.138646   \n",
      "min       0.000000     0.000000     0.000000     0.000000     0.000000   \n",
      "25%      33.000000    18.000000     7.000000     8.000000     3.000000   \n",
      "50%      42.000000    25.000000    10.000000    10.000000     4.000000   \n",
      "75%      53.000000    33.000000    14.000000    13.000000     7.000000   \n",
      "max     120.000000    71.000000    50.000000    19.000000    21.000000   \n",
      "\n",
      "         l_bpFaced  winner_rank  winner_rank_points   loser_rank  \\\n",
      "count  2488.000000  2585.000000         2585.000000  2560.000000   \n",
      "mean      9.731109    78.689362         1604.451451   117.689453   \n",
      "std       3.770300   116.269686         1446.661533   171.171665   \n",
      "min       0.000000     1.000000            4.000000     1.000000   \n",
      "25%       7.000000    22.000000          734.000000    36.000000   \n",
      "50%       9.000000    48.000000         1134.000000    73.000000   \n",
      "75%      12.000000    91.000000         2074.000000   123.250000   \n",
      "max      27.000000  1503.000000        10485.000000  1556.000000   \n",
      "\n",
      "       loser_rank_points  \n",
      "count        2560.000000  \n",
      "mean         1166.555078  \n",
      "std          1050.532039  \n",
      "min             2.000000  \n",
      "25%           528.000000  \n",
      "50%           867.500000  \n",
      "75%          1360.000000  \n",
      "max         10335.000000  \n",
      "\n",
      "[8 rows x 33 columns]\n"
     ]
    }
   ],
   "source": [
    "%time\n",
    "q4() "
   ]
  },
  {
   "cell_type": "markdown",
   "metadata": {},
   "source": [
    "\n",
    "### Question 5:\n",
    "Utilize the %time magic function in Jupyter to measure the imports of the 3 different data files and compare the results. Which data file read was fastest?\n",
    "\n",
    "This is included in all the above...\n"
   ]
  },
  {
   "cell_type": "code",
   "execution_count": null,
   "metadata": {},
   "outputs": [],
   "source": []
  }
 ],
 "metadata": {
  "kernelspec": {
   "display_name": "Python 3",
   "language": "python",
   "name": "python3"
  },
  "language_info": {
   "codemirror_mode": {
    "name": "ipython",
    "version": 3
   },
   "file_extension": ".py",
   "mimetype": "text/x-python",
   "name": "python",
   "nbconvert_exporter": "python",
   "pygments_lexer": "ipython3",
   "version": "3.7.6"
  }
 },
 "nbformat": 4,
 "nbformat_minor": 4
}
