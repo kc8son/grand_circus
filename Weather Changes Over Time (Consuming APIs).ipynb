{
 "cells": [
  {
   "cell_type": "markdown",
   "id": "151040ac",
   "metadata": {},
   "source": [
    "# Weather Changes Over Time (Consuming APIs)\n",
    "\n",
    "## Task\n",
    "Utilize the following two APIs to evaluate the changes in temperature for your birthday and city you were born in:\n",
    "* [geocode.xyz](geocode.xyz)\n",
    "* [open-meteo.com](open-meteo.com)\n",
    "* [Jason's example colab](https://colab.research.google.com/drive/17e90aHSMzYIXnItpwC-ehlLp6HwEDJQb#scrollTo=9mcOi_nhCwce)\n",
    "* [Joe's colab homework](https://colab.research.google.com/drive/1GTBq7wg7VxREV1hiYRuq2M63qAx6Ft2E#scrollTo=KVht0XAasdTj)\n",
    "* [Joe's colab homework v2](https://colab.research.google.com/drive/1GTBq7wg7VxREV1hiYRuq2M63qAx6Ft2E#scrollTo=fec1e201)"
   ]
  },
  {
   "cell_type": "code",
   "execution_count": 1,
   "id": "f63cfceb",
   "metadata": {
    "ExecuteTime": {
     "end_time": "2023-02-28T00:37:36.649033Z",
     "start_time": "2023-02-28T00:37:35.420371Z"
    }
   },
   "outputs": [],
   "source": [
    "from datetime import date, datetime, timedelta\n",
    "\n",
    "import requests\n",
    "import pandas as pd\n",
    "import numpy as np\n",
    "import seaborn as sns\n",
    "from matplotlib import pyplot as plt\n",
    "from matplotlib.ticker import FormatStrFormatter\n",
    "import requests\n",
    "from datetime import datetime\n",
    "\n",
    "%matplotlib inline\n",
    "\n",
    "sns.set_palette('muted')\n",
    "sns.set_style('white')"
   ]
  },
  {
   "cell_type": "markdown",
   "id": "ad0e9817",
   "metadata": {},
   "source": [
    "### Function definitions\n",
    "- I am adding the function definitions here so that I can better keep track of the functions.\n",
    "- When applicable, a comment will call out the question that the function answers."
   ]
  },
  {
   "cell_type": "code",
   "execution_count": 2,
   "id": "430733c2",
   "metadata": {},
   "outputs": [
    {
     "name": "stdout",
     "output_type": "stream",
     "text": [
      "45.00764 -93.26842\n",
      "1961-05-29 00:00:00 1961-06-12 00:00:00\n",
      "https://archive-api.open-meteo.com/v1/archive?latitude=45.00764&longitude=-93.26842&start_date=1961-05-29&end_date=1961-06-12&daily=temperature_2m_max,temperature_2m_min,apparent_temperature_max,apparent_temperature_min,precipitation_sum&timezone=America%2FChicago&temperature_unit=fahrenheit&windspeed_unit=mph&precipitation_unit=inch\n",
      "{'latitude': 45.0, 'longitude': -93.299995, 'generationtime_ms': 487.9629611968994, 'utc_offset_seconds': -18000, 'timezone': 'America/Chicago', 'timezone_abbreviation': 'CDT', 'elevation': 255.0, 'daily_units': {'time': 'iso8601', 'temperature_2m_max': '°F', 'temperature_2m_min': '°F', 'apparent_temperature_max': '°F', 'apparent_temperature_min': '°F', 'precipitation_sum': 'inch'}, 'daily': {'time': ['1961-05-29', '1961-05-30', '1961-05-31', '1961-06-01', '1961-06-02', '1961-06-03', '1961-06-04', '1961-06-05', '1961-06-06', '1961-06-07', '1961-06-08', '1961-06-09', '1961-06-10', '1961-06-11', '1961-06-12'], 'temperature_2m_max': [69.0, 75.3, 83.9, 73.8, 67.3, 73.8, 78.2, 83.3, 79.1, 67.7, 81.3, 83.2, 82.6, 84.1, 83.8], 'temperature_2m_min': [50.4, 47.9, 59.0, 63.4, 57.3, 47.2, 56.2, 59.7, 61.9, 59.3, 58.9, 62.0, 63.6, 66.8, 67.3], 'apparent_temperature_max': [67.7, 72.0, 85.9, 71.3, 61.9, 73.8, 77.3, 85.7, 80.2, 69.3, 87.3, 84.9, 84.0, 92.9, 89.9], 'apparent_temperature_min': [45.2, 43.1, 56.8, 61.1, 54.5, 44.3, 53.6, 58.4, 62.3, 58.8, 59.9, 64.6, 64.8, 70.5, 72.8], 'precipitation_sum': [0.0, 0.0, 0.103, 0.016, 0.004, 0.0, 0.0, 0.0, 0.0, 0.472, 0.032, 0.0, 0.032, 0.106, 0.642]}}\n"
     ]
    }
   ],
   "source": [
    "###################################################################################################\n",
    "#   QUESTION #1\n",
    "def geocode_location(city, country):\n",
    "    \"\"\"This function will accept a city & country, then using the geocode.xyz API, it will return the lat/long of the city.\"\"\"\n",
    "    my_api_key = \"24278384394600926516x105722\"\n",
    "    api_url = \"https://geocode.xyz/\"+city+\"+\"+country+\"?json=1&auth=\"+my_api_key\n",
    "    response = requests.get(api_url)\n",
    "    response_json = response.json()\n",
    "    # print(response_json['latt'], response_json['longt'])\n",
    "    # pass # remove this line once you start adding code to your function\n",
    "    return response_json['latt'], response_json['longt']\n",
    "\n",
    "# ###################################################################################################\n",
    "# #   Test the function...\n",
    "# ret_lat, ret_long = geocode_location(\"Minneapolis\", \"usa\")\n",
    "# print(ret_lat, ret_long)\n",
    "\n",
    "###################################################################################################\n",
    "#   Prompt for user input.\n",
    "def query_user():\n",
    "    \"\"\"This function will ask a user for a city, country and their birth date.\"\"\"\n",
    "    my_city = input(\"Please enter the city you were born in:\\n> \")\n",
    "    my_country = input(\"What coutry is that in:\\n> \")\n",
    "    my_bday = input(\"What ia your birthday:\\n> \")\n",
    "    my_lat, my_long = geocode_location(my_city, my_country)\n",
    "    \n",
    "    print(my_lat, my_long)\n",
    "    return my_lat, my_long, my_bday\n",
    "    \n",
    "# ###################################################################################################\n",
    "# #   Test the function...\n",
    "# retval1, retval2, retval3 = query_user()\n",
    "# print(retval1, retval2, retval3)\n",
    "\n",
    "###################################################################################################\n",
    "#   helper function for 15-day date range\n",
    "def get_date_range(birthday):\n",
    "    \"\"\"This function takes a given date (birthdate) and subtracts 7 days, then adds 7 days to \n",
    "    provide a 15-day date range.\"\"\"\n",
    "    return {'start_date': birthday - timedelta(days=7),\n",
    "            'end_date': birthday + timedelta(days=7)\n",
    "           }\n",
    "\n",
    "###################################################################################################\n",
    "#   Get weather data...\n",
    "def get_api_response(latitude, longitude, date):\n",
    "    \"\"\"This fuction will accept a lat/long and a date.  It will then return weather data for that \n",
    "    location and a 15-day range, 7 days before the date and 7 days after the date.\"\"\"\n",
    "    date_range = get_date_range(date)\n",
    "    print(latitude, longitude)\n",
    "    print(str(date_range[\"start_date\"]), str(date_range[\"end_date\"]))\n",
    "\n",
    "    st_date = date_range[\"start_date\"].strftime('%Y-%m-%d')\n",
    "    end_date = date_range[\"end_date\"].strftime('%Y-%m-%d')\n",
    "    weather_url = f\"https://archive-api.open-meteo.com/v1/archive?latitude={latitude}&longitude={longitude}&start_date={st_date}&end_date={end_date}&daily=temperature_2m_max,temperature_2m_min,apparent_temperature_max,apparent_temperature_min,precipitation_sum&timezone=America%2FChicago&temperature_unit=fahrenheit&windspeed_unit=mph&precipitation_unit=inch\"\n",
    "    print(weather_url)\n",
    "    weather_response = requests.get(weather_url)\n",
    "    weather_json = weather_response.json()\n",
    "    return weather_json\n",
    "\n",
    "###################################################################################################\n",
    "#   Test the function\n",
    "bday = '06/05/1961'\n",
    "bday_dt = datetime.strptime(bday, '%m/%d/%Y')\n",
    "weather_json = get_api_response(45.00764, -93.26842, bday_dt )\n",
    "print(weather_json)"
   ]
  },
  {
   "cell_type": "markdown",
   "id": "1e32bc42",
   "metadata": {
    "ExecuteTime": {
     "end_time": "2023-02-27T20:30:03.112450Z",
     "start_time": "2023-02-27T20:30:03.106139Z"
    }
   },
   "source": [
    "## Question 1: Geocoding A Location\n",
    "Write a function that utilizes the [geocode.xyz](geocode.xyz) API to take in a city and country and return the latitude and longitude of that location\n",
    "\n",
    "```\n",
    "def geocode_location(city, country):\n",
    "    # your code\n",
    "    return latitude, longitude\n",
    "```\n",
    "\n",
    "For example:\n",
    "```\n",
    "geocode_location(\"london\", \"united kingdom\")\n",
    "```\n",
    "should return\n",
    "```\n",
    "(-0.11534, 51.49742)\n",
    "```"
   ]
  },
  {
   "cell_type": "code",
   "execution_count": 3,
   "id": "8d366f5f",
   "metadata": {
    "ExecuteTime": {
     "end_time": "2023-02-27T22:31:12.769895Z",
     "start_time": "2023-02-27T22:31:12.752767Z"
    }
   },
   "outputs": [],
   "source": [
    "# write your solution here\n",
    "###################################################################################################\n",
    "#   QUESTION #1\n",
    "def geocode_location(city, country):\n",
    "    \"\"\"This function will accept a city & country, then using the geocode.xyz API, it will return the lat/long of the city.\"\"\"\n",
    "    my_api_key = \"24278384394600926516x105722\"\n",
    "    api_url = \"https://geocode.xyz/\"+city+\"+\"+country+\"?json=1&auth=\"+my_api_key\n",
    "    response = requests.get(api_url)\n",
    "    response_json = response.json()\n",
    "    # print(response_json['latt'], response_json['longt'])\n",
    "    # pass # remove this line once you start adding code to your function\n",
    "    return response_json['latt'], response_json['longt']\n",
    "\n",
    "# ###################################################################################################\n",
    "# #   Test the function...\n",
    "# ret_lat, ret_long = geocode_location(\"Minneapolis\", \"usa\")\n",
    "# print(ret_lat, ret_long)\n"
   ]
  },
  {
   "cell_type": "markdown",
   "id": "f4e6d187",
   "metadata": {},
   "source": [
    "## Question 2: Determining Weather Using Date and Location\n",
    "Write a function that utilizes the [open-meteo.com](https://open-meteo.com/) API to take in a date and location and return the 15-day average high and low for the following measurements from the years 1960 to 2022:\n",
    "* `precipitation_sum` (mm): Sum of daily precipitation (including rain, showers and snowfall)\n",
    "* `temperature_2m_max` (°F): Maximum daily air temperature at 2 meters above ground\n",
    "* `temperature_2m_min` (°F): Minimum daily air temperature at 2 meters above ground\n",
    "* `apparent_temperature_max` (°F): Maximum daily apparent temperature\n",
    "* `apparent_temperature_min` (°F): Min daily apparent temperature\n",
    "\n",
    "The function should return the above measurements in a dictionary object with the keys being `\"precipitation_sum\"`, `\"temperature_2m_max\"`, etc. and the values being the 15-day average of the measurements. The 15-day average should be the 7 days preceeding the input date, the input date, and the 7 days following the input date. This will give the results more statistical validity by increasing the number of samples for each measurement.\n",
    "\n",
    "The `get_historical_weather_measurements()` function will include a few different sub-tasks:\n",
    "\n",
    "### Create API Request in Postman/Insomnia\n",
    "Use the following [API Documentation](https://open-meteo.com/en/docs/historical-weather-api#api-documentation) page to create an API request that responds with a JSON object of the measurements listed above. Make sure the response object meets the following:\n",
    "* Temperatue measurements are in Fahrenheit\n",
    "* Precipitation measurements are in inches\n",
    "* Measurements are daily aggregations\n",
    "* 15 day range of weather\n",
    "* JSON format\n",
    "\n",
    "\n",
    "Before writing any code, use Postman/Insomnia to create the API request and take a screenshot of the request/response.\n",
    "\n",
    "### Create API Request Function\n",
    "Convert the request above into a function. The function should take in `latitude`, `longitude`, and `date` as its arguments and return the API response, if successful.\n",
    "\n",
    "```\n",
    "def get_api_response(latitude, longitude, date):\n",
    "    # your code\n",
    "\n",
    "```\n",
    "\n",
    "Use the helper function below for creating a 15-day date range "
   ]
  },
  {
   "cell_type": "code",
   "execution_count": null,
   "id": "5b88bf09",
   "metadata": {
    "ExecuteTime": {
     "end_time": "2023-02-28T00:37:55.391271Z",
     "start_time": "2023-02-28T00:37:55.379302Z"
    }
   },
   "outputs": [],
   "source": [
    "# # write your solution here\n"
   ]
  },
  {
   "cell_type": "code",
   "execution_count": null,
   "id": "7f9a8ae1",
   "metadata": {},
   "outputs": [],
   "source": []
  },
  {
   "cell_type": "markdown",
   "id": "d6b2f707",
   "metadata": {},
   "source": [
    "### Iterating Over Each Year\n",
    "Write a function that iterates through each year between 1960 and 2022 and returns the corresponding JSON response objects containing weather data for each year in a python list.\n",
    "\n",
    "```\n",
    "def get_all_response_objects(start_year, end_year):\n",
    "    # your code\n",
    "```\n"
   ]
  },
  {
   "cell_type": "code",
   "execution_count": null,
   "id": "7dc63ad6",
   "metadata": {
    "ExecuteTime": {
     "end_time": "2023-02-28T00:37:55.921045Z",
     "start_time": "2023-02-28T00:37:55.917896Z"
    }
   },
   "outputs": [],
   "source": [
    "# write your solution here\n",
    "def get_all_response_objects(latitude, longitude, date):\n",
    "    pass # remove this line once you start adding code to your function"
   ]
  },
  {
   "cell_type": "markdown",
   "id": "f1d41694",
   "metadata": {},
   "source": [
    "### Parse JSON Responses & Aggregate Data\n",
    "Write a function that takes the list of JSON response objects from the previous function in as a parameter and returns a pandas DataFrame containing the original input date, the measurements, and the average across the 15 days.\n",
    "```\n",
    "def parse_json_response(responses):\n",
    "    # your code\n",
    "```\n"
   ]
  },
  {
   "cell_type": "code",
   "execution_count": null,
   "id": "031aa222",
   "metadata": {
    "ExecuteTime": {
     "end_time": "2023-02-28T00:58:30.331208Z",
     "start_time": "2023-02-28T00:58:30.320011Z"
    }
   },
   "outputs": [],
   "source": [
    "# write your solution here\n",
    "def parse_json_response(responses):\n",
    "    pass # remove this line once you start adding code to your function"
   ]
  },
  {
   "cell_type": "markdown",
   "id": "1959739b",
   "metadata": {},
   "source": [
    "### Combining the Functions\n",
    "Write a function that combines all the above functions into one, where the user inputs their birthday and location and the function returns the pandas DataFrame containing the summary of measurements.\n",
    "\n",
    "```\n",
    "def get_data():\n",
    "    birthday = get_user_birthday()\n",
    "    location = get_user_city_of_birth()\n",
    "    # your code here\n",
    "```\n",
    "\n",
    "The helper functions below can be used for birthday and location input information:"
   ]
  },
  {
   "cell_type": "code",
   "execution_count": null,
   "id": "8b38bb31",
   "metadata": {
    "ExecuteTime": {
     "end_time": "2023-02-28T00:37:56.448620Z",
     "start_time": "2023-02-28T00:37:56.443554Z"
    }
   },
   "outputs": [],
   "source": [
    "# helper functions\n",
    "def get_user_birthday():\n",
    "    birthday = input('Enter your birthday (MM/DD/YYYY): ')\n",
    "    return datetime.strptime(birthday, \"%m/%d/%Y\")\n",
    "\n",
    "def get_user_city_of_birth():\n",
    "    city = input('Enter the city you were born in: ')\n",
    "    country = input('Enter the country you were born in: ')\n",
    "    return city , country"
   ]
  },
  {
   "cell_type": "code",
   "execution_count": null,
   "id": "6b40481c",
   "metadata": {
    "ExecuteTime": {
     "end_time": "2023-02-28T00:37:56.588922Z",
     "start_time": "2023-02-28T00:37:56.585684Z"
    }
   },
   "outputs": [],
   "source": [
    "# write your solution here\n",
    "def get_data():\n",
    "    pass # remove this line once you start adding code to your function"
   ]
  },
  {
   "cell_type": "markdown",
   "id": "2bffb3c4",
   "metadata": {},
   "source": [
    "Run your function and set it equal to `df`:"
   ]
  },
  {
   "cell_type": "code",
   "execution_count": null,
   "id": "6780f90b",
   "metadata": {
    "ExecuteTime": {
     "end_time": "2023-02-28T00:37:57.411326Z",
     "start_time": "2023-02-28T00:37:56.840425Z"
    },
    "scrolled": true
   },
   "outputs": [],
   "source": [
    "df = get_data()\n",
    "\n",
    "df.head()"
   ]
  },
  {
   "cell_type": "markdown",
   "id": "cf3291f8",
   "metadata": {},
   "source": [
    "## Question 3: Visualizing The Data\n",
    "Plot the DataFrame using `matplotlib`/`seaborn` and write a short summary of your results."
   ]
  },
  {
   "cell_type": "code",
   "execution_count": null,
   "id": "69acdde7",
   "metadata": {
    "ExecuteTime": {
     "end_time": "2023-02-28T00:38:07.414648Z",
     "start_time": "2023-02-28T00:38:07.408238Z"
    }
   },
   "outputs": [],
   "source": [
    "# enter your code here"
   ]
  },
  {
   "cell_type": "markdown",
   "id": "1d51f1f3",
   "metadata": {},
   "source": [
    "### Results Summary:"
   ]
  },
  {
   "cell_type": "code",
   "execution_count": null,
   "id": "ee433ddc",
   "metadata": {},
   "outputs": [],
   "source": []
  }
 ],
 "metadata": {
  "kernelspec": {
   "display_name": "Python 3 (ipykernel)",
   "language": "python",
   "name": "python3"
  },
  "language_info": {
   "codemirror_mode": {
    "name": "ipython",
    "version": 3
   },
   "file_extension": ".py",
   "mimetype": "text/x-python",
   "name": "python",
   "nbconvert_exporter": "python",
   "pygments_lexer": "ipython3",
   "version": "3.10.9"
  }
 },
 "nbformat": 4,
 "nbformat_minor": 5
}
