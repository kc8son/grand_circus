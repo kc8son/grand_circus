{
 "cells": [
  {
   "cell_type": "markdown",
   "metadata": {},
   "source": [
    "# Day030 - May 4, 2023 - Exploratory Data Analysis\n",
    "## Data Analytics 2: Data Visualization & Predictions - Flying Etiquette Survey (Data Visualization) - Due May 8\n",
    "## Written by: Joseph P Merten\n",
    "\n",
    "## Assignment submission:  https://lms.grandcircus.co/mod/assign/view.php?id=25284\n",
    "## Assignment requirements: https://docs.google.com/document/d/1KHJctjMMiL_MFfUYl8O7uABQ9uy6wsUnZN0hssFZzuQ/preview\n",
    "    "
   ]
  },
  {
   "cell_type": "markdown",
   "metadata": {},
   "source": [
    "### Imports"
   ]
  },
  {
   "cell_type": "code",
   "execution_count": 1,
   "metadata": {},
   "outputs": [],
   "source": [
    "import matplotlib.pyplot as plt\n",
    "import numpy as np\n",
    "import pandas as pd\n",
    "import seaborn as sns"
   ]
  },
  {
   "cell_type": "markdown",
   "metadata": {},
   "source": [
    "### Go get data..."
   ]
  },
  {
   "cell_type": "code",
   "execution_count": 2,
   "metadata": {},
   "outputs": [],
   "source": [
    "data_url = r'https://raw.githubusercontent.com/fivethirtyeight/data/master/flying-etiquette-survey/flying-etiquette.csv'\n",
    "# print(data_url)\n",
    "etiquette_df = pd.read_csv(data_url)"
   ]
  },
  {
   "cell_type": "code",
   "execution_count": 3,
   "metadata": {},
   "outputs": [
    {
     "data": {
      "text/html": [
       "<div>\n",
       "<style scoped>\n",
       "    .dataframe tbody tr th:only-of-type {\n",
       "        vertical-align: middle;\n",
       "    }\n",
       "\n",
       "    .dataframe tbody tr th {\n",
       "        vertical-align: top;\n",
       "    }\n",
       "\n",
       "    .dataframe thead th {\n",
       "        text-align: right;\n",
       "    }\n",
       "</style>\n",
       "<table border=\"1\" class=\"dataframe\">\n",
       "  <thead>\n",
       "    <tr style=\"text-align: right;\">\n",
       "      <th></th>\n",
       "      <th>RespondentID</th>\n",
       "      <th>How often do you travel by plane?</th>\n",
       "      <th>Do you ever recline your seat when you fly?</th>\n",
       "      <th>How tall are you?</th>\n",
       "      <th>Do you have any children under 18?</th>\n",
       "      <th>In a row of three seats, who should get to use the two arm rests?</th>\n",
       "      <th>In a row of two seats, who should get to use the middle arm rest?</th>\n",
       "      <th>Who should have control over the window shade?</th>\n",
       "      <th>Is itrude to move to an unsold seat on a plane?</th>\n",
       "      <th>Generally speaking, is it rude to say more than a few words tothe stranger sitting next to you on a plane?</th>\n",
       "      <th>...</th>\n",
       "      <th>Is itrude to wake a passenger up if you are trying to walk around?</th>\n",
       "      <th>In general, is itrude to bring a baby on a plane?</th>\n",
       "      <th>In general, is it rude to knowingly bring unruly children on a plane?</th>\n",
       "      <th>Have you ever used personal electronics during take off or landing in violation of a flight attendant's direction?</th>\n",
       "      <th>Have you ever smoked a cigarette in an airplane bathroom when it was against the rules?</th>\n",
       "      <th>Gender</th>\n",
       "      <th>Age</th>\n",
       "      <th>Household Income</th>\n",
       "      <th>Education</th>\n",
       "      <th>Location (Census Region)</th>\n",
       "    </tr>\n",
       "  </thead>\n",
       "  <tbody>\n",
       "    <tr>\n",
       "      <th>0</th>\n",
       "      <td>3436139758</td>\n",
       "      <td>Once a year or less</td>\n",
       "      <td>NaN</td>\n",
       "      <td>NaN</td>\n",
       "      <td>NaN</td>\n",
       "      <td>NaN</td>\n",
       "      <td>NaN</td>\n",
       "      <td>NaN</td>\n",
       "      <td>NaN</td>\n",
       "      <td>NaN</td>\n",
       "      <td>...</td>\n",
       "      <td>NaN</td>\n",
       "      <td>NaN</td>\n",
       "      <td>NaN</td>\n",
       "      <td>NaN</td>\n",
       "      <td>NaN</td>\n",
       "      <td>NaN</td>\n",
       "      <td>NaN</td>\n",
       "      <td>NaN</td>\n",
       "      <td>NaN</td>\n",
       "      <td>NaN</td>\n",
       "    </tr>\n",
       "    <tr>\n",
       "      <th>1</th>\n",
       "      <td>3434278696</td>\n",
       "      <td>Once a year or less</td>\n",
       "      <td>About half the time</td>\n",
       "      <td>6'3\"</td>\n",
       "      <td>Yes</td>\n",
       "      <td>The arm rests should be shared</td>\n",
       "      <td>The arm rests should be shared</td>\n",
       "      <td>Everyone in the row should have some say</td>\n",
       "      <td>No, not rude at all</td>\n",
       "      <td>No, not at all rude</td>\n",
       "      <td>...</td>\n",
       "      <td>No, not at all rude</td>\n",
       "      <td>No, not at all rude</td>\n",
       "      <td>No, not at all rude</td>\n",
       "      <td>No</td>\n",
       "      <td>No</td>\n",
       "      <td>Male</td>\n",
       "      <td>30-44</td>\n",
       "      <td>NaN</td>\n",
       "      <td>Graduate degree</td>\n",
       "      <td>Pacific</td>\n",
       "    </tr>\n",
       "    <tr>\n",
       "      <th>2</th>\n",
       "      <td>3434275578</td>\n",
       "      <td>Once a year or less</td>\n",
       "      <td>Usually</td>\n",
       "      <td>5'8\"</td>\n",
       "      <td>No</td>\n",
       "      <td>Whoever puts their arm on the arm rest first</td>\n",
       "      <td>The arm rests should be shared</td>\n",
       "      <td>The person in the window seat should have excl...</td>\n",
       "      <td>No, not rude at all</td>\n",
       "      <td>No, not at all rude</td>\n",
       "      <td>...</td>\n",
       "      <td>Yes, somewhat rude</td>\n",
       "      <td>Yes, somewhat rude</td>\n",
       "      <td>Yes, very rude</td>\n",
       "      <td>No</td>\n",
       "      <td>No</td>\n",
       "      <td>Male</td>\n",
       "      <td>30-44</td>\n",
       "      <td>$100,000 - $149,999</td>\n",
       "      <td>Bachelor degree</td>\n",
       "      <td>Pacific</td>\n",
       "    </tr>\n",
       "    <tr>\n",
       "      <th>3</th>\n",
       "      <td>3434268208</td>\n",
       "      <td>Once a year or less</td>\n",
       "      <td>Always</td>\n",
       "      <td>5'11\"</td>\n",
       "      <td>No</td>\n",
       "      <td>The arm rests should be shared</td>\n",
       "      <td>The arm rests should be shared</td>\n",
       "      <td>Everyone in the row should have some say</td>\n",
       "      <td>No, not rude at all</td>\n",
       "      <td>No, not at all rude</td>\n",
       "      <td>...</td>\n",
       "      <td>Yes, somewhat rude</td>\n",
       "      <td>Yes, somewhat rude</td>\n",
       "      <td>Yes, very rude</td>\n",
       "      <td>No</td>\n",
       "      <td>No</td>\n",
       "      <td>Male</td>\n",
       "      <td>30-44</td>\n",
       "      <td>$0 - $24,999</td>\n",
       "      <td>Bachelor degree</td>\n",
       "      <td>Pacific</td>\n",
       "    </tr>\n",
       "    <tr>\n",
       "      <th>4</th>\n",
       "      <td>3434250245</td>\n",
       "      <td>Once a month or less</td>\n",
       "      <td>About half the time</td>\n",
       "      <td>5'7\"</td>\n",
       "      <td>No</td>\n",
       "      <td>The person in the middle seat gets both arm rests</td>\n",
       "      <td>The person in aisle</td>\n",
       "      <td>Everyone in the row should have some say</td>\n",
       "      <td>No, not rude at all</td>\n",
       "      <td>No, not at all rude</td>\n",
       "      <td>...</td>\n",
       "      <td>Yes, somewhat rude</td>\n",
       "      <td>Yes, somewhat rude</td>\n",
       "      <td>Yes, very rude</td>\n",
       "      <td>Yes</td>\n",
       "      <td>No</td>\n",
       "      <td>Male</td>\n",
       "      <td>30-44</td>\n",
       "      <td>$50,000 - $99,999</td>\n",
       "      <td>Bachelor degree</td>\n",
       "      <td>Pacific</td>\n",
       "    </tr>\n",
       "  </tbody>\n",
       "</table>\n",
       "<p>5 rows × 27 columns</p>\n",
       "</div>"
      ],
      "text/plain": [
       "   RespondentID How often do you travel by plane?  \\\n",
       "0    3436139758               Once a year or less   \n",
       "1    3434278696               Once a year or less   \n",
       "2    3434275578               Once a year or less   \n",
       "3    3434268208               Once a year or less   \n",
       "4    3434250245              Once a month or less   \n",
       "\n",
       "  Do you ever recline your seat when you fly? How tall are you?  \\\n",
       "0                                         NaN               NaN   \n",
       "1                         About half the time              6'3\"   \n",
       "2                                     Usually              5'8\"   \n",
       "3                                      Always             5'11\"   \n",
       "4                         About half the time              5'7\"   \n",
       "\n",
       "  Do you have any children under 18?  \\\n",
       "0                                NaN   \n",
       "1                                Yes   \n",
       "2                                 No   \n",
       "3                                 No   \n",
       "4                                 No   \n",
       "\n",
       "  In a row of three seats, who should get to use the two arm rests?  \\\n",
       "0                                                NaN                  \n",
       "1                     The arm rests should be shared                  \n",
       "2       Whoever puts their arm on the arm rest first                  \n",
       "3                     The arm rests should be shared                  \n",
       "4  The person in the middle seat gets both arm rests                  \n",
       "\n",
       "  In a row of two seats, who should get to use the middle arm rest?  \\\n",
       "0                                                NaN                  \n",
       "1                     The arm rests should be shared                  \n",
       "2                     The arm rests should be shared                  \n",
       "3                     The arm rests should be shared                  \n",
       "4                                The person in aisle                  \n",
       "\n",
       "      Who should have control over the window shade?  \\\n",
       "0                                                NaN   \n",
       "1           Everyone in the row should have some say   \n",
       "2  The person in the window seat should have excl...   \n",
       "3           Everyone in the row should have some say   \n",
       "4           Everyone in the row should have some say   \n",
       "\n",
       "  Is itrude to move to an unsold seat on a plane?  \\\n",
       "0                                             NaN   \n",
       "1                             No, not rude at all   \n",
       "2                             No, not rude at all   \n",
       "3                             No, not rude at all   \n",
       "4                             No, not rude at all   \n",
       "\n",
       "  Generally speaking, is it rude to say more than a few words tothe stranger sitting next to you on a plane?  \\\n",
       "0                                                NaN                                                           \n",
       "1                                No, not at all rude                                                           \n",
       "2                                No, not at all rude                                                           \n",
       "3                                No, not at all rude                                                           \n",
       "4                                No, not at all rude                                                           \n",
       "\n",
       "   ... Is itrude to wake a passenger up if you are trying to walk around?  \\\n",
       "0  ...                                                NaN                   \n",
       "1  ...                                No, not at all rude                   \n",
       "2  ...                                 Yes, somewhat rude                   \n",
       "3  ...                                 Yes, somewhat rude                   \n",
       "4  ...                                 Yes, somewhat rude                   \n",
       "\n",
       "  In general, is itrude to bring a baby on a plane?  \\\n",
       "0                                               NaN   \n",
       "1                               No, not at all rude   \n",
       "2                                Yes, somewhat rude   \n",
       "3                                Yes, somewhat rude   \n",
       "4                                Yes, somewhat rude   \n",
       "\n",
       "  In general, is it rude to knowingly bring unruly children on a plane?  \\\n",
       "0                                                NaN                      \n",
       "1                                No, not at all rude                      \n",
       "2                                     Yes, very rude                      \n",
       "3                                     Yes, very rude                      \n",
       "4                                     Yes, very rude                      \n",
       "\n",
       "  Have you ever used personal electronics during take off or landing in violation of a flight attendant's direction?  \\\n",
       "0                                                NaN                                                                   \n",
       "1                                                 No                                                                   \n",
       "2                                                 No                                                                   \n",
       "3                                                 No                                                                   \n",
       "4                                                Yes                                                                   \n",
       "\n",
       "  Have you ever smoked a cigarette in an airplane bathroom when it was against the rules?  \\\n",
       "0                                                NaN                                        \n",
       "1                                                 No                                        \n",
       "2                                                 No                                        \n",
       "3                                                 No                                        \n",
       "4                                                 No                                        \n",
       "\n",
       "  Gender    Age     Household Income        Education Location (Census Region)  \n",
       "0    NaN    NaN                  NaN              NaN                      NaN  \n",
       "1   Male  30-44                  NaN  Graduate degree                  Pacific  \n",
       "2   Male  30-44  $100,000 - $149,999  Bachelor degree                  Pacific  \n",
       "3   Male  30-44         $0 - $24,999  Bachelor degree                  Pacific  \n",
       "4   Male  30-44    $50,000 - $99,999  Bachelor degree                  Pacific  \n",
       "\n",
       "[5 rows x 27 columns]"
      ]
     },
     "execution_count": 3,
     "metadata": {},
     "output_type": "execute_result"
    }
   ],
   "source": [
    "etiquette_df.head()"
   ]
  },
  {
   "cell_type": "code",
   "execution_count": 4,
   "metadata": {},
   "outputs": [
    {
     "name": "stdout",
     "output_type": "stream",
     "text": [
      "       RespondentID\n",
      "count  1.040000e+03\n",
      "mean   3.432711e+09\n",
      "std    6.104183e+05\n",
      "min    3.431730e+09\n",
      "25%    3.432265e+09\n",
      "50%    3.432672e+09\n",
      "75%    3.433153e+09\n",
      "max    3.436140e+09\n",
      "Number of rows in the data: 1040\n"
     ]
    }
   ],
   "source": [
    "###  https://stackoverflow.com/questions/67205522/set-order-on-sns-histplot\n",
    "# plt.hist(etiquette_df['Age'])\n",
    "# etiquette_df['Age']\n",
    "# etiquette_df['AgeOrder'] = pd.Categorical(etiquette_df['Age'], ['18-29','30-44','45-60','> 60'])\n",
    "# etiquette_df.head(20)\n",
    "# sns.histplot(data=etiquette_df, x='Age', order=['18-29','30-44','45-60','> 60'])\n",
    "# sns.histplot(data=etiquette_df, x='Age', order=['18-29','30-44','45-60',' > 60'])\n",
    "# etiquette_df['Age'].unique\n",
    "col_order = ['18-29','30-44','45-60',' > 60']\n",
    "# etiquette_df['Item'] = pd.Categorical(etiquette_df['Age'], ['18-29','30-44','45-60',' > 60'])\n",
    "print(etiquette_df.describe())\n",
    "print(f\"Number of rows in the data: {len(etiquette_df)}\")\n",
    "# Compute the percentages...\n",
    "# etiquette_df[percent] = (etiquette_df['RespondentID'] / etiquette_df['RespondentID'].sum()) * 100\n",
    "# sns.histplot(data=etiquette_df, x='Age')"
   ]
  },
  {
   "cell_type": "markdown",
   "metadata": {},
   "source": [
    "### Visualization #1 - Percent breakdown of survey participants by age range.\n"
   ]
  },
  {
   "cell_type": "code",
   "execution_count": 5,
   "metadata": {},
   "outputs": [
    {
     "name": "stdout",
     "output_type": "stream",
     "text": [
      "             Age\n",
      "45-60  27.308838\n",
      "> 60   25.620655\n",
      "30-44  25.223436\n",
      "18-29  21.847071\n",
      "<class 'pandas.core.frame.DataFrame'>\n"
     ]
    },
    {
     "data": {
      "text/plain": [
       "<AxesSubplot: xlabel='Age', ylabel='Count'>"
      ]
     },
     "execution_count": 5,
     "metadata": {},
     "output_type": "execute_result"
    },
    {
     "data": {
      "image/png": "[encoded data removed]",
      "text/plain": [
       "<Figure size 640x480 with 1 Axes>"
      ]
     },
     "metadata": {},
     "output_type": "display_data"
    }
   ],
   "source": [
    "agg_df = None\n",
    "xlat_df = {\"18-29\": \"1) 18-29\",\n",
    "           \"30-44\": \"2) 30-44\",\n",
    "           \"45-60\": \"3) 45-60\",\n",
    "           \"> 60\": \"4) > 60 \"}\n",
    "agg_series = etiquette_df['Age'].value_counts(normalize=True) * 100\n",
    "agg_df = pd.Series.to_frame(agg_series)\n",
    "# agg_df[\"NAge\"] = agg_df[\"Age\"].map(xlat_df) \n",
    "print(agg_df)\n",
    "print(type(agg_df))\n",
    "sns.histplot(data=agg_df, x='Age')\n",
    "# plt.hist(agg_df.values) "
   ]
  },
  {
   "cell_type": "code",
   "execution_count": null,
   "metadata": {},
   "outputs": [],
   "source": []
  },
  {
   "cell_type": "markdown",
   "metadata": {},
   "source": [
    "### Visualization #3 - How did survey respondents generally feel regarding if “it [was] rude to ask someone to switch seats with you in order to be closer to friends?”?"
   ]
  },
  {
   "cell_type": "code",
   "execution_count": 6,
   "metadata": {},
   "outputs": [
    {
     "name": "stdout",
     "output_type": "stream",
     "text": [
      "<class 'pandas.core.series.Series'>\n"
     ]
    }
   ],
   "source": [
    "# Get our list of columns...\n",
    "# etiquette_df.columns\n",
    "\n",
    "# Looks like column 14 is the one we want to examine...\n",
    "# etiquette_df.columns[14]\n",
    "\n",
    "# Get this column...\n",
    "etiquette_df[\"Is it rude to ask someone to switch seats with you in order to be closer to friends?\"]\n",
    "plot_df = etiquette_df[\"Is it rude to ask someone to switch seats with you in order to be closer to friends?\"]\n",
    "print(type(plot_df))\n"
   ]
  },
  {
   "cell_type": "code",
   "execution_count": 7,
   "metadata": {},
   "outputs": [
    {
     "data": {
      "text/plain": [
       "(array([1., 0., 1., 0., 0., 0., 0., 0., 0., 1.]),\n",
       " array([ 35. ,  94.6, 154.2, 213.8, 273.4, 333. , 392.6, 452.2, 511.8,\n",
       "        571.4, 631. ]),\n",
       " <BarContainer object of 10 artists>)"
      ]
     },
     "execution_count": 7,
     "metadata": {},
     "output_type": "execute_result"
    },
    {
     "data": {
      "image/png": "[encoded data removed]",
      "text/plain": [
       "<Figure size 640x480 with 1 Axes>"
      ]
     },
     "metadata": {},
     "output_type": "display_data"
    }
   ],
   "source": [
    "# plt.hist(etiquette_df[\"Is it rude to ask someone to switch seats with you in order to be closer to friends?\"].count())\n",
    "etiquette_df[\"Is it rude to ask someone to switch seats with you in order to be closer to friends?\"].count()\n",
    "plot_df = etiquette_df.groupby([\"Is it rude to ask someone to switch seats with you in order to be closer to friends?\"])[\"Is it rude to ask someone to switch seats with you in order to be closer to friends?\"].count()\n",
    "plt.hist(plot_df)"
   ]
  },
  {
   "cell_type": "markdown",
   "metadata": {},
   "source": [
    "### Visualization #3 - Response to switching seats by age.\n"
   ]
  },
  {
   "cell_type": "code",
   "execution_count": null,
   "metadata": {},
   "outputs": [],
   "source": []
  },
  {
   "cell_type": "code",
   "execution_count": null,
   "metadata": {},
   "outputs": [],
   "source": []
  },
  {
   "cell_type": "code",
   "execution_count": null,
   "metadata": {},
   "outputs": [],
   "source": []
  }
 ],
 "metadata": {
  "kernelspec": {
   "display_name": "Python 3",
   "language": "python",
   "name": "python3"
  },
  "language_info": {
   "codemirror_mode": {
    "name": "ipython",
    "version": 3
   },
   "file_extension": ".py",
   "mimetype": "text/x-python",
   "name": "python",
   "nbconvert_exporter": "python",
   "pygments_lexer": "ipython3",
   "version": "3.8.3"
  }
 },
 "nbformat": 4,
 "nbformat_minor": 5
}
