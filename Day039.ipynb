{
 "cells": [
  {
   "cell_type": "markdown",
   "id": "49cc9671-f2f6-406f-838a-a1b19766bfbe",
   "metadata": {},
   "source": [
    "# Grand Circus Capstrone Project 02\n",
    "IMDB MOVIES/SHOWS REPORT\n",
    "Three datasets:\n",
    "- title.basics.tsv.gz\n",
    "- title.ratings.tsv.gz\n"
   ]
  },
  {
   "cell_type": "code",
   "execution_count": 17,
   "id": "f93d7362-52e1-4656-9b2f-38bd5fe231ff",
   "metadata": {},
   "outputs": [],
   "source": [
    "import pandas as pd\n",
    "import numpy as np\n",
    "import seaborn as sns"
   ]
  },
  {
   "cell_type": "markdown",
   "id": "4c91c1bf-adc9-4ff1-ac60-f6bf0d4f782e",
   "metadata": {},
   "source": [
    "### Set up the files names allowing a different path between Joe & Andrew\n",
    "#### Andrew - fix your file names so that they're not all named data.tsv within a folder name title.basics.tsv  The file should be named xxx.xxx.tsv instead of a folder named that way"
   ]
  },
  {
   "cell_type": "code",
   "execution_count": 4,
   "id": "6839aa83-8556-4b96-b06f-14ea1a357f82",
   "metadata": {},
   "outputs": [
    {
     "name": "stdout",
     "output_type": "stream",
     "text": [
      "C:\\Users\\j\\Downloads\\Day039Data\\\\name.basics.tsv\n",
      "C:\\Users\\j\\Downloads\\Day039Data\\\\title.akas.tsv\n",
      "C:\\Users\\j\\Downloads\\Day039Data\\\\title.basics.tsv\n",
      "C:\\Users\\j\\Downloads\\Day039Data\\\\title.crew.tsv\n",
      "C:\\Users\\j\\Downloads\\Day039Data\\\\title.episode.tsv\n",
      "C:\\Users\\j\\Downloads\\Day039Data\\\\title.principals.tsv\n",
      "C:\\Users\\j\\Downloads\\Day039Data\\\\title.ratings.tsv\n"
     ]
    }
   ],
   "source": [
    "#   Set the location of the files.\n",
    "file_location = r\"C:\\Users\\j\\Downloads\\Day039Data\\\\\"\n",
    "\n",
    "# Now add the names of the files to the location...\n",
    "file1 = file_location + \"name.basics.tsv\"\n",
    "file2 = file_location + \"title.akas.tsv\"\n",
    "file3 = file_location + \"title.basics.tsv\"\n",
    "file4 = file_location + \"title.crew.tsv\"\n",
    "file5 = file_location + \"title.episode.tsv\"\n",
    "file6 = file_location + \"title.principals.tsv\"\n",
    "file7 = file_location + \"title.ratings.tsv\"\n",
    "print(file1)\n",
    "print(file2)\n",
    "print(file3)\n",
    "print(file4)\n",
    "print(file5)\n",
    "print(file6)\n",
    "print(file7)"
   ]
  },
  {
   "cell_type": "markdown",
   "id": "374bd848-62b4-4530-a65f-538e5cbb0dfd",
   "metadata": {},
   "source": [
    "### Load name.basics.tsv"
   ]
  },
  {
   "cell_type": "code",
   "execution_count": 5,
   "id": "36799d11-f43a-44eb-9c11-a25c2f111f40",
   "metadata": {},
   "outputs": [
    {
     "ename": "NameError",
     "evalue": "name 'pd' is not defined",
     "output_type": "error",
     "traceback": [
      "\u001b[1;31m---------------------------------------------------------------------------\u001b[0m",
      "\u001b[1;31mNameError\u001b[0m                                 Traceback (most recent call last)",
      "Cell \u001b[1;32mIn[5], line 1\u001b[0m\n\u001b[1;32m----> 1\u001b[0m df1 \u001b[38;5;241m=\u001b[39m  \u001b[43mpd\u001b[49m\u001b[38;5;241m.\u001b[39mread_csv(file1, sep\u001b[38;5;241m=\u001b[39m\u001b[38;5;124m'\u001b[39m\u001b[38;5;130;01m\\t\u001b[39;00m\u001b[38;5;124m'\u001b[39m)\n\u001b[0;32m      2\u001b[0m \u001b[38;5;28mprint\u001b[39m(df1\u001b[38;5;241m.\u001b[39mhead(\u001b[38;5;241m20\u001b[39m))\n\u001b[0;32m      3\u001b[0m df1\u001b[38;5;241m.\u001b[39mshape\n",
      "\u001b[1;31mNameError\u001b[0m: name 'pd' is not defined"
     ]
    }
   ],
   "source": [
    "df1 =  pd.read_csv(file1, sep='\\t')\n",
    "print(df1.head(20))\n",
    "df1.shape"
   ]
  },
  {
   "cell_type": "markdown",
   "id": "6e53f487-426a-4d0b-8554-bdc7194e35b8",
   "metadata": {},
   "source": [
    "### Load title.akas.tsv"
   ]
  },
  {
   "cell_type": "code",
   "execution_count": 30,
   "id": "289c4472-35d7-470a-a4bb-8be60c2822c3",
   "metadata": {},
   "outputs": [
    {
     "name": "stderr",
     "output_type": "stream",
     "text": [
      "C:\\Users\\j\\AppData\\Local\\Temp\\ipykernel_12892\\2162114105.py:2: DtypeWarning: Columns (7) have mixed types. Specify dtype option on import or set low_memory=False.\n",
      "  df2 =  pd.read_csv(file2, sep='\\t')\n"
     ]
    },
    {
     "name": "stdout",
     "output_type": "stream",
     "text": [
      "      titleId  ordering                      title region language  \\\n",
      "0   tt0000001         1                 Карменсіта     UA       \\N   \n",
      "1   tt0000001         2                 Carmencita     DE       \\N   \n",
      "2   tt0000001         3  Carmencita - spanyol tánc     HU       \\N   \n",
      "3   tt0000001         4                 Καρμενσίτα     GR       \\N   \n",
      "4   tt0000001         5                 Карменсита     RU       \\N   \n",
      "5   tt0000001         6                 Carmencita     US       \\N   \n",
      "6   tt0000001         7                 Carmencita     \\N       \\N   \n",
      "7   tt0000001         8                    カルメンチータ     JP       ja   \n",
      "8   tt0000002         1     Le clown et ses chiens     \\N       \\N   \n",
      "9   tt0000002         2     Le clown et ses chiens     FR       \\N   \n",
      "10  tt0000002         3          A bohóc és kutyái     HU       \\N   \n",
      "11  tt0000002         4  Der Clown und seine Hunde     DE       \\N   \n",
      "12  tt0000002         5      Clovnul si cainii sai     RO       \\N   \n",
      "13  tt0000002         6         Клоун и его собаки     RU       \\N   \n",
      "14  tt0000002         7     The Clown and His Dogs     US       \\N   \n",
      "15  tt0000002         8                      道化師と犬     JP       ja   \n",
      "16  tt0000003         1           Sarmanul Pierrot     RO       \\N   \n",
      "17  tt0000003         2            Szegény Pierrot     HU       \\N   \n",
      "18  tt0000003         3                     哀れなピエロ     JP       ja   \n",
      "19  tt0000003         4               Бідний П'єро     UA       \\N   \n",
      "\n",
      "          types             attributes isOriginalTitle  \n",
      "0   imdbDisplay                     \\N               0  \n",
      "1            \\N          literal title               0  \n",
      "2   imdbDisplay                     \\N               0  \n",
      "3   imdbDisplay                     \\N               0  \n",
      "4   imdbDisplay                     \\N               0  \n",
      "5   imdbDisplay                     \\N               0  \n",
      "6      original                     \\N               1  \n",
      "7   imdbDisplay                     \\N               0  \n",
      "8      original                     \\N               1  \n",
      "9   imdbDisplay                     \\N               0  \n",
      "10  imdbDisplay                     \\N               0  \n",
      "11           \\N          literal title               0  \n",
      "12  imdbDisplay                     \\N               0  \n",
      "13  imdbDisplay                     \\N               0  \n",
      "14           \\N  literal English title               0  \n",
      "15  imdbDisplay                     \\N               0  \n",
      "16  imdbDisplay                     \\N               0  \n",
      "17  imdbDisplay                     \\N               0  \n",
      "18  imdbDisplay                     \\N               0  \n",
      "19  imdbDisplay                     \\N               0  \n"
     ]
    },
    {
     "data": {
      "text/plain": [
       "(35994986, 8)"
      ]
     },
     "execution_count": 30,
     "metadata": {},
     "output_type": "execute_result"
    }
   ],
   "source": [
    "df2 =  pd.read_csv(file2, sep='\\t')\n",
    "print(df2.head(20))\n",
    "df2.shape"
   ]
  },
  {
   "cell_type": "markdown",
   "id": "56a41f64-4bc2-4b2a-8ecc-d3479fdc4d0f",
   "metadata": {},
   "source": [
    "### Load title.basics.tsv\""
   ]
  },
  {
   "cell_type": "code",
   "execution_count": null,
   "id": "2099f559-c792-43ec-b057-e4cb8f536a4b",
   "metadata": {},
   "outputs": [],
   "source": [
    "df3 =  pd.read_csv(file3, sep='\\t')\n",
    "df3.head(20)\n",
    "df3.shape"
   ]
  },
  {
   "cell_type": "code",
   "execution_count": null,
   "id": "438766d7-5dc8-4947-8282-df75080ef2c4",
   "metadata": {},
   "outputs": [],
   "source": [
    "### Load title.crew"
   ]
  },
  {
   "cell_type": "code",
   "execution_count": null,
   "id": "1770a611-8cbd-4bc7-80a1-47258d68ef0c",
   "metadata": {},
   "outputs": [],
   "source": [
    "df4 =  pd.read_csv(file4, sep='\\t')\n",
    "df4.head(20)\n",
    "df4.shape"
   ]
  },
  {
   "cell_type": "code",
   "execution_count": null,
   "id": "37fd260a-59fe-4e26-babe-415d383cee0f",
   "metadata": {},
   "outputs": [],
   "source": [
    "### Load \\title.episode.tsv"
   ]
  },
  {
   "cell_type": "code",
   "execution_count": null,
   "id": "d5d593b3-fa1c-4085-bcf3-05ca5d318366",
   "metadata": {},
   "outputs": [],
   "source": [
    "df5 =  pd.read_csv(file5, sep='\\t')\n",
    "df5.head(20)\n",
    "df5.shape"
   ]
  },
  {
   "cell_type": "code",
   "execution_count": null,
   "id": "cc2edb84-026b-4a3e-8d38-23765425d3fd",
   "metadata": {},
   "outputs": [],
   "source": [
    "### Load title.principals.tsv"
   ]
  },
  {
   "cell_type": "code",
   "execution_count": null,
   "id": "deb94245-e535-4392-bff4-ddc24a0b00ff",
   "metadata": {},
   "outputs": [],
   "source": [
    "df6 =  pd.read_csv(file6, sep='\\t')\n",
    "df6.head(20)\n",
    "df6.shape"
   ]
  },
  {
   "cell_type": "code",
   "execution_count": null,
   "id": "2529087f-7632-4247-80da-7c0bb3df3418",
   "metadata": {},
   "outputs": [],
   "source": [
    "### Load title.ratings.tsv"
   ]
  },
  {
   "cell_type": "code",
   "execution_count": null,
   "id": "4dec8ee9-bee7-4819-ac13-0cf02005261d",
   "metadata": {},
   "outputs": [],
   "source": [
    "df7 =  pd.read_csv(file7, sep='\\t')\n",
    "df7.head(20)\n",
    "df7.shape"
   ]
  },
  {
   "cell_type": "code",
   "execution_count": 31,
   "id": "f0f2359c-d77c-4132-8c3d-b6d8811dc845",
   "metadata": {},
   "outputs": [],
   "source": []
  },
  {
   "cell_type": "code",
   "execution_count": null,
   "id": "373c9198-9b31-4643-9c4f-add8e09ff5dd",
   "metadata": {},
   "outputs": [],
   "source": []
  },
  {
   "cell_type": "code",
   "execution_count": null,
   "id": "d1ea67ac-6a28-464c-bfb9-b7ad3921a9fa",
   "metadata": {},
   "outputs": [],
   "source": []
  },
  {
   "cell_type": "markdown",
   "id": "4322d8a9-7900-4a26-9777-0d59648a93b9",
   "metadata": {},
   "source": [
    "# Analysis ideas...\n",
    "1. Compare Genre vs Rating - identify the most popular genre\n",
    "1. Compare actor with the rating for their movies\n",
    "- Average the rating for all of their movies, also include a count of their movies.\n",
    "1. Average rating by decade of the movie.\n",
    "1. Runtime compared to date - are newer movies getting longer\n",
    "1. Compare remankes.\n",
    "- How do the ratings compare.\n",
    "- How far apart is the remake from the original\n",
    "- How does this timeframe affect the rating?\n",
    "\n",
    "# Which tables do we need?"
   ]
  }
 ],
 "metadata": {
  "kernelspec": {
   "display_name": "Python 3 (ipykernel)",
   "language": "python",
   "name": "python3"
  },
  "language_info": {
   "codemirror_mode": {
    "name": "ipython",
    "version": 3
   },
   "file_extension": ".py",
   "mimetype": "text/x-python",
   "name": "python",
   "nbconvert_exporter": "python",
   "pygments_lexer": "ipython3",
   "version": "3.10.9"
  }
 },
 "nbformat": 4,
 "nbformat_minor": 5
}
